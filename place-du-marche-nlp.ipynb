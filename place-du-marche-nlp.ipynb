{
 "cells": [
  {
   "cell_type": "markdown",
   "id": "003092a4",
   "metadata": {
    "papermill": {
     "duration": 0.020881,
     "end_time": "2024-08-29T23:02:26.139792",
     "exception": false,
     "start_time": "2024-08-29T23:02:26.118911",
     "status": "completed"
    },
    "tags": []
   },
   "source": [
    "# NLP on Place du marche\n",
    "\n",
    "- dataset is 1050 csv on kaggle"
   ]
  },
  {
   "cell_type": "code",
   "execution_count": 1,
   "id": "884d98e8",
   "metadata": {
    "execution": {
     "iopub.execute_input": "2024-08-29T23:02:26.182271Z",
     "iopub.status.busy": "2024-08-29T23:02:26.180935Z",
     "iopub.status.idle": "2024-08-29T23:02:26.194580Z",
     "shell.execute_reply": "2024-08-29T23:02:26.193411Z"
    },
    "papermill": {
     "duration": 0.03785,
     "end_time": "2024-08-29T23:02:26.197394",
     "exception": false,
     "start_time": "2024-08-29T23:02:26.159544",
     "status": "completed"
    },
    "tags": []
   },
   "outputs": [],
   "source": [
    "RANDOM_SEED = 1359 # for models"
   ]
  },
  {
   "cell_type": "code",
   "execution_count": 2,
   "id": "31f53410",
   "metadata": {
    "execution": {
     "iopub.execute_input": "2024-08-29T23:02:26.238360Z",
     "iopub.status.busy": "2024-08-29T23:02:26.237921Z",
     "iopub.status.idle": "2024-08-29T23:02:26.268230Z",
     "shell.execute_reply": "2024-08-29T23:02:26.266995Z"
    },
    "papermill": {
     "duration": 0.054039,
     "end_time": "2024-08-29T23:02:26.271168",
     "exception": false,
     "start_time": "2024-08-29T23:02:26.217129",
     "status": "completed"
    },
    "tags": []
   },
   "outputs": [],
   "source": [
    "import os\n",
    "import sys\n",
    "import json\n",
    "import yaml"
   ]
  },
  {
   "cell_type": "code",
   "execution_count": 3,
   "id": "6e006b74",
   "metadata": {
    "execution": {
     "iopub.execute_input": "2024-08-29T23:02:26.314136Z",
     "iopub.status.busy": "2024-08-29T23:02:26.313662Z",
     "iopub.status.idle": "2024-08-29T23:02:28.709988Z",
     "shell.execute_reply": "2024-08-29T23:02:28.708856Z"
    },
    "papermill": {
     "duration": 2.42172,
     "end_time": "2024-08-29T23:02:28.713144",
     "exception": false,
     "start_time": "2024-08-29T23:02:26.291424",
     "status": "completed"
    },
    "tags": []
   },
   "outputs": [],
   "source": [
    "import pandas as pd\n",
    "import numpy as np\n",
    "import matplotlib.pyplot as plt\n",
    "import seaborn as sns"
   ]
  },
  {
   "cell_type": "code",
   "execution_count": 4,
   "id": "73a6b9e3",
   "metadata": {
    "execution": {
     "iopub.execute_input": "2024-08-29T23:02:28.755535Z",
     "iopub.status.busy": "2024-08-29T23:02:28.754918Z",
     "iopub.status.idle": "2024-08-29T23:02:28.834596Z",
     "shell.execute_reply": "2024-08-29T23:02:28.833557Z"
    },
    "papermill": {
     "duration": 0.104088,
     "end_time": "2024-08-29T23:02:28.837406",
     "exception": false,
     "start_time": "2024-08-29T23:02:28.733318",
     "status": "completed"
    },
    "tags": []
   },
   "outputs": [],
   "source": [
    "df = pd.read_csv(\"/kaggle/input/flipkart/Flipkart/flipkart_com-ecommerce_sample_1050.csv\")"
   ]
  },
  {
   "cell_type": "code",
   "execution_count": 5,
   "id": "97f10b9c",
   "metadata": {
    "execution": {
     "iopub.execute_input": "2024-08-29T23:02:28.879696Z",
     "iopub.status.busy": "2024-08-29T23:02:28.878831Z",
     "iopub.status.idle": "2024-08-29T23:02:28.913667Z",
     "shell.execute_reply": "2024-08-29T23:02:28.912461Z"
    },
    "papermill": {
     "duration": 0.059194,
     "end_time": "2024-08-29T23:02:28.916507",
     "exception": false,
     "start_time": "2024-08-29T23:02:28.857313",
     "status": "completed"
    },
    "tags": []
   },
   "outputs": [
    {
     "data": {
      "text/html": [
       "<div>\n",
       "<style scoped>\n",
       "    .dataframe tbody tr th:only-of-type {\n",
       "        vertical-align: middle;\n",
       "    }\n",
       "\n",
       "    .dataframe tbody tr th {\n",
       "        vertical-align: top;\n",
       "    }\n",
       "\n",
       "    .dataframe thead th {\n",
       "        text-align: right;\n",
       "    }\n",
       "</style>\n",
       "<table border=\"1\" class=\"dataframe\">\n",
       "  <thead>\n",
       "    <tr style=\"text-align: right;\">\n",
       "      <th></th>\n",
       "      <th>uniq_id</th>\n",
       "      <th>crawl_timestamp</th>\n",
       "      <th>product_url</th>\n",
       "      <th>product_name</th>\n",
       "      <th>product_category_tree</th>\n",
       "      <th>pid</th>\n",
       "      <th>retail_price</th>\n",
       "      <th>discounted_price</th>\n",
       "      <th>image</th>\n",
       "      <th>is_FK_Advantage_product</th>\n",
       "      <th>description</th>\n",
       "      <th>product_rating</th>\n",
       "      <th>overall_rating</th>\n",
       "      <th>brand</th>\n",
       "      <th>product_specifications</th>\n",
       "    </tr>\n",
       "  </thead>\n",
       "  <tbody>\n",
       "    <tr>\n",
       "      <th>0</th>\n",
       "      <td>55b85ea15a1536d46b7190ad6fff8ce7</td>\n",
       "      <td>2016-04-30 03:22:56 +0000</td>\n",
       "      <td>http://www.flipkart.com/elegance-polyester-mul...</td>\n",
       "      <td>Elegance Polyester Multicolor Abstract Eyelet ...</td>\n",
       "      <td>[\"Home Furnishing &gt;&gt; Curtains &amp; Accessories &gt;&gt;...</td>\n",
       "      <td>CRNEG7BKMFFYHQ8Z</td>\n",
       "      <td>1899.0</td>\n",
       "      <td>899.0</td>\n",
       "      <td>55b85ea15a1536d46b7190ad6fff8ce7.jpg</td>\n",
       "      <td>False</td>\n",
       "      <td>Key Features of Elegance Polyester Multicolor ...</td>\n",
       "      <td>No rating available</td>\n",
       "      <td>No rating available</td>\n",
       "      <td>Elegance</td>\n",
       "      <td>{\"product_specification\"=&gt;[{\"key\"=&gt;\"Brand\", \"v...</td>\n",
       "    </tr>\n",
       "    <tr>\n",
       "      <th>1</th>\n",
       "      <td>7b72c92c2f6c40268628ec5f14c6d590</td>\n",
       "      <td>2016-04-30 03:22:56 +0000</td>\n",
       "      <td>http://www.flipkart.com/sathiyas-cotton-bath-t...</td>\n",
       "      <td>Sathiyas Cotton Bath Towel</td>\n",
       "      <td>[\"Baby Care &gt;&gt; Baby Bath &amp; Skin &gt;&gt; Baby Bath T...</td>\n",
       "      <td>BTWEGFZHGBXPHZUH</td>\n",
       "      <td>600.0</td>\n",
       "      <td>449.0</td>\n",
       "      <td>7b72c92c2f6c40268628ec5f14c6d590.jpg</td>\n",
       "      <td>False</td>\n",
       "      <td>Specifications of Sathiyas Cotton Bath Towel (...</td>\n",
       "      <td>No rating available</td>\n",
       "      <td>No rating available</td>\n",
       "      <td>Sathiyas</td>\n",
       "      <td>{\"product_specification\"=&gt;[{\"key\"=&gt;\"Machine Wa...</td>\n",
       "    </tr>\n",
       "    <tr>\n",
       "      <th>2</th>\n",
       "      <td>64d5d4a258243731dc7bbb1eef49ad74</td>\n",
       "      <td>2016-04-30 03:22:56 +0000</td>\n",
       "      <td>http://www.flipkart.com/eurospa-cotton-terry-f...</td>\n",
       "      <td>Eurospa Cotton Terry Face Towel Set</td>\n",
       "      <td>[\"Baby Care &gt;&gt; Baby Bath &amp; Skin &gt;&gt; Baby Bath T...</td>\n",
       "      <td>BTWEG6SHXTDB2A2Y</td>\n",
       "      <td>NaN</td>\n",
       "      <td>NaN</td>\n",
       "      <td>64d5d4a258243731dc7bbb1eef49ad74.jpg</td>\n",
       "      <td>False</td>\n",
       "      <td>Key Features of Eurospa Cotton Terry Face Towe...</td>\n",
       "      <td>No rating available</td>\n",
       "      <td>No rating available</td>\n",
       "      <td>Eurospa</td>\n",
       "      <td>{\"product_specification\"=&gt;[{\"key\"=&gt;\"Material\",...</td>\n",
       "    </tr>\n",
       "    <tr>\n",
       "      <th>3</th>\n",
       "      <td>d4684dcdc759dd9cdf41504698d737d8</td>\n",
       "      <td>2016-06-20 08:49:52 +0000</td>\n",
       "      <td>http://www.flipkart.com/santosh-royal-fashion-...</td>\n",
       "      <td>SANTOSH ROYAL FASHION Cotton Printed King size...</td>\n",
       "      <td>[\"Home Furnishing &gt;&gt; Bed Linen &gt;&gt; Bedsheets &gt;&gt;...</td>\n",
       "      <td>BDSEJT9UQWHDUBH4</td>\n",
       "      <td>2699.0</td>\n",
       "      <td>1299.0</td>\n",
       "      <td>d4684dcdc759dd9cdf41504698d737d8.jpg</td>\n",
       "      <td>False</td>\n",
       "      <td>Key Features of SANTOSH ROYAL FASHION Cotton P...</td>\n",
       "      <td>No rating available</td>\n",
       "      <td>No rating available</td>\n",
       "      <td>SANTOSH ROYAL FASHION</td>\n",
       "      <td>{\"product_specification\"=&gt;[{\"key\"=&gt;\"Brand\", \"v...</td>\n",
       "    </tr>\n",
       "    <tr>\n",
       "      <th>4</th>\n",
       "      <td>6325b6870c54cd47be6ebfbffa620ec7</td>\n",
       "      <td>2016-06-20 08:49:52 +0000</td>\n",
       "      <td>http://www.flipkart.com/jaipur-print-cotton-fl...</td>\n",
       "      <td>Jaipur Print Cotton Floral King sized Double B...</td>\n",
       "      <td>[\"Home Furnishing &gt;&gt; Bed Linen &gt;&gt; Bedsheets &gt;&gt;...</td>\n",
       "      <td>BDSEJTHNGWVGWWQU</td>\n",
       "      <td>2599.0</td>\n",
       "      <td>698.0</td>\n",
       "      <td>6325b6870c54cd47be6ebfbffa620ec7.jpg</td>\n",
       "      <td>False</td>\n",
       "      <td>Key Features of Jaipur Print Cotton Floral Kin...</td>\n",
       "      <td>No rating available</td>\n",
       "      <td>No rating available</td>\n",
       "      <td>Jaipur Print</td>\n",
       "      <td>{\"product_specification\"=&gt;[{\"key\"=&gt;\"Machine Wa...</td>\n",
       "    </tr>\n",
       "  </tbody>\n",
       "</table>\n",
       "</div>"
      ],
      "text/plain": [
       "                            uniq_id            crawl_timestamp  \\\n",
       "0  55b85ea15a1536d46b7190ad6fff8ce7  2016-04-30 03:22:56 +0000   \n",
       "1  7b72c92c2f6c40268628ec5f14c6d590  2016-04-30 03:22:56 +0000   \n",
       "2  64d5d4a258243731dc7bbb1eef49ad74  2016-04-30 03:22:56 +0000   \n",
       "3  d4684dcdc759dd9cdf41504698d737d8  2016-06-20 08:49:52 +0000   \n",
       "4  6325b6870c54cd47be6ebfbffa620ec7  2016-06-20 08:49:52 +0000   \n",
       "\n",
       "                                         product_url  \\\n",
       "0  http://www.flipkart.com/elegance-polyester-mul...   \n",
       "1  http://www.flipkart.com/sathiyas-cotton-bath-t...   \n",
       "2  http://www.flipkart.com/eurospa-cotton-terry-f...   \n",
       "3  http://www.flipkart.com/santosh-royal-fashion-...   \n",
       "4  http://www.flipkart.com/jaipur-print-cotton-fl...   \n",
       "\n",
       "                                        product_name  \\\n",
       "0  Elegance Polyester Multicolor Abstract Eyelet ...   \n",
       "1                         Sathiyas Cotton Bath Towel   \n",
       "2                Eurospa Cotton Terry Face Towel Set   \n",
       "3  SANTOSH ROYAL FASHION Cotton Printed King size...   \n",
       "4  Jaipur Print Cotton Floral King sized Double B...   \n",
       "\n",
       "                               product_category_tree               pid  \\\n",
       "0  [\"Home Furnishing >> Curtains & Accessories >>...  CRNEG7BKMFFYHQ8Z   \n",
       "1  [\"Baby Care >> Baby Bath & Skin >> Baby Bath T...  BTWEGFZHGBXPHZUH   \n",
       "2  [\"Baby Care >> Baby Bath & Skin >> Baby Bath T...  BTWEG6SHXTDB2A2Y   \n",
       "3  [\"Home Furnishing >> Bed Linen >> Bedsheets >>...  BDSEJT9UQWHDUBH4   \n",
       "4  [\"Home Furnishing >> Bed Linen >> Bedsheets >>...  BDSEJTHNGWVGWWQU   \n",
       "\n",
       "   retail_price  discounted_price                                 image  \\\n",
       "0        1899.0             899.0  55b85ea15a1536d46b7190ad6fff8ce7.jpg   \n",
       "1         600.0             449.0  7b72c92c2f6c40268628ec5f14c6d590.jpg   \n",
       "2           NaN               NaN  64d5d4a258243731dc7bbb1eef49ad74.jpg   \n",
       "3        2699.0            1299.0  d4684dcdc759dd9cdf41504698d737d8.jpg   \n",
       "4        2599.0             698.0  6325b6870c54cd47be6ebfbffa620ec7.jpg   \n",
       "\n",
       "   is_FK_Advantage_product                                        description  \\\n",
       "0                    False  Key Features of Elegance Polyester Multicolor ...   \n",
       "1                    False  Specifications of Sathiyas Cotton Bath Towel (...   \n",
       "2                    False  Key Features of Eurospa Cotton Terry Face Towe...   \n",
       "3                    False  Key Features of SANTOSH ROYAL FASHION Cotton P...   \n",
       "4                    False  Key Features of Jaipur Print Cotton Floral Kin...   \n",
       "\n",
       "        product_rating       overall_rating                  brand  \\\n",
       "0  No rating available  No rating available               Elegance   \n",
       "1  No rating available  No rating available               Sathiyas   \n",
       "2  No rating available  No rating available                Eurospa   \n",
       "3  No rating available  No rating available  SANTOSH ROYAL FASHION   \n",
       "4  No rating available  No rating available           Jaipur Print   \n",
       "\n",
       "                              product_specifications  \n",
       "0  {\"product_specification\"=>[{\"key\"=>\"Brand\", \"v...  \n",
       "1  {\"product_specification\"=>[{\"key\"=>\"Machine Wa...  \n",
       "2  {\"product_specification\"=>[{\"key\"=>\"Material\",...  \n",
       "3  {\"product_specification\"=>[{\"key\"=>\"Brand\", \"v...  \n",
       "4  {\"product_specification\"=>[{\"key\"=>\"Machine Wa...  "
      ]
     },
     "execution_count": 5,
     "metadata": {},
     "output_type": "execute_result"
    }
   ],
   "source": [
    "df.head()"
   ]
  },
  {
   "cell_type": "markdown",
   "id": "ed8068cd",
   "metadata": {
    "papermill": {
     "duration": 0.019819,
     "end_time": "2024-08-29T23:02:28.956784",
     "exception": false,
     "start_time": "2024-08-29T23:02:28.936965",
     "status": "completed"
    },
    "tags": []
   },
   "source": [
    "# Etape 1\n",
    "\n",
    "- Réalisez au préalable un prétraitement de vos textes : nettoyage, stemming, lemmatization etc. \n",
    "- Utilisez des méthodes basiques d’encodage de texte (Bag of Words, TfIdf etc.)\n",
    "- Utilisez des méthodes de réduction de dimension sur le texte encodé et comparer les résultats avec les catégories réelles"
   ]
  },
  {
   "cell_type": "markdown",
   "id": "c2e51e64",
   "metadata": {
    "papermill": {
     "duration": 0.020405,
     "end_time": "2024-08-29T23:02:28.997023",
     "exception": false,
     "start_time": "2024-08-29T23:02:28.976618",
     "status": "completed"
    },
    "tags": []
   },
   "source": [
    "# EDA\n",
    "\n",
    "- TODO: do more here, check NANs etc"
   ]
  },
  {
   "cell_type": "code",
   "execution_count": 6,
   "id": "b36e845c",
   "metadata": {
    "execution": {
     "iopub.execute_input": "2024-08-29T23:02:29.039507Z",
     "iopub.status.busy": "2024-08-29T23:02:29.039064Z",
     "iopub.status.idle": "2024-08-29T23:02:29.047065Z",
     "shell.execute_reply": "2024-08-29T23:02:29.045830Z"
    },
    "papermill": {
     "duration": 0.032561,
     "end_time": "2024-08-29T23:02:29.050180",
     "exception": false,
     "start_time": "2024-08-29T23:02:29.017619",
     "status": "completed"
    },
    "tags": []
   },
   "outputs": [
    {
     "data": {
      "text/plain": [
       "Index(['uniq_id', 'crawl_timestamp', 'product_url', 'product_name',\n",
       "       'product_category_tree', 'pid', 'retail_price', 'discounted_price',\n",
       "       'image', 'is_FK_Advantage_product', 'description', 'product_rating',\n",
       "       'overall_rating', 'brand', 'product_specifications'],\n",
       "      dtype='object')"
      ]
     },
     "execution_count": 6,
     "metadata": {},
     "output_type": "execute_result"
    }
   ],
   "source": [
    "df.columns # we want 'description' only ? and maye also 'product_name' ?"
   ]
  },
  {
   "cell_type": "code",
   "execution_count": 7,
   "id": "7430a613",
   "metadata": {
    "execution": {
     "iopub.execute_input": "2024-08-29T23:02:29.092245Z",
     "iopub.status.busy": "2024-08-29T23:02:29.091826Z",
     "iopub.status.idle": "2024-08-29T23:02:29.104297Z",
     "shell.execute_reply": "2024-08-29T23:02:29.103031Z"
    },
    "papermill": {
     "duration": 0.039132,
     "end_time": "2024-08-29T23:02:29.109402",
     "exception": false,
     "start_time": "2024-08-29T23:02:29.070270",
     "status": "completed"
    },
    "tags": []
   },
   "outputs": [
    {
     "data": {
      "text/plain": [
       "uniq_id                      0\n",
       "crawl_timestamp              0\n",
       "product_url                  0\n",
       "product_name                 0\n",
       "product_category_tree        0\n",
       "pid                          0\n",
       "retail_price                 1\n",
       "discounted_price             1\n",
       "image                        0\n",
       "is_FK_Advantage_product      0\n",
       "description                  0\n",
       "product_rating               0\n",
       "overall_rating               0\n",
       "brand                      338\n",
       "product_specifications       1\n",
       "dtype: int64"
      ]
     },
     "execution_count": 7,
     "metadata": {},
     "output_type": "execute_result"
    }
   ],
   "source": [
    "# check i any products with missing description or product name\n",
    "df.isna().sum()"
   ]
  },
  {
   "cell_type": "markdown",
   "id": "9a8945ad",
   "metadata": {
    "papermill": {
     "duration": 0.019958,
     "end_time": "2024-08-29T23:02:29.150154",
     "exception": false,
     "start_time": "2024-08-29T23:02:29.130196",
     "status": "completed"
    },
    "tags": []
   },
   "source": [
    "# Create the actual Category\n",
    "\n",
    "- pas tres clair dans l'exercise\n",
    "- en regardant les 2 images, on dirait que les Categories sont : \"Home Furnishing\", \"Baby Care\"\n",
    "\n",
    "**J'AI REMARQUE QUE CA CORRESPOND AU \"TOPLEVEL\" DE `product_category_tree` -> confirme avec mentor TODO**"
   ]
  },
  {
   "cell_type": "code",
   "execution_count": 8,
   "id": "d066308e",
   "metadata": {
    "execution": {
     "iopub.execute_input": "2024-08-29T23:02:29.193818Z",
     "iopub.status.busy": "2024-08-29T23:02:29.193357Z",
     "iopub.status.idle": "2024-08-29T23:02:29.202890Z",
     "shell.execute_reply": "2024-08-29T23:02:29.201715Z"
    },
    "papermill": {
     "duration": 0.034365,
     "end_time": "2024-08-29T23:02:29.205305",
     "exception": false,
     "start_time": "2024-08-29T23:02:29.170940",
     "status": "completed"
    },
    "tags": []
   },
   "outputs": [
    {
     "data": {
      "text/plain": [
       "0    [\"Home Furnishing >> Curtains & Accessories >>...\n",
       "1    [\"Baby Care >> Baby Bath & Skin >> Baby Bath T...\n",
       "2    [\"Baby Care >> Baby Bath & Skin >> Baby Bath T...\n",
       "3    [\"Home Furnishing >> Bed Linen >> Bedsheets >>...\n",
       "4    [\"Home Furnishing >> Bed Linen >> Bedsheets >>...\n",
       "Name: product_category_tree, dtype: object"
      ]
     },
     "execution_count": 8,
     "metadata": {},
     "output_type": "execute_result"
    }
   ],
   "source": [
    "df.loc[:4, \"product_category_tree\"]"
   ]
  },
  {
   "cell_type": "code",
   "execution_count": 9,
   "id": "b00e4d0f",
   "metadata": {
    "execution": {
     "iopub.execute_input": "2024-08-29T23:02:29.249334Z",
     "iopub.status.busy": "2024-08-29T23:02:29.248526Z",
     "iopub.status.idle": "2024-08-29T23:02:29.254107Z",
     "shell.execute_reply": "2024-08-29T23:02:29.252785Z"
    },
    "papermill": {
     "duration": 0.030851,
     "end_time": "2024-08-29T23:02:29.256659",
     "exception": false,
     "start_time": "2024-08-29T23:02:29.225808",
     "status": "completed"
    },
    "tags": []
   },
   "outputs": [],
   "source": [
    "import re"
   ]
  },
  {
   "cell_type": "code",
   "execution_count": 10,
   "id": "f9961b92",
   "metadata": {
    "execution": {
     "iopub.execute_input": "2024-08-29T23:02:29.300080Z",
     "iopub.status.busy": "2024-08-29T23:02:29.299611Z",
     "iopub.status.idle": "2024-08-29T23:02:29.313145Z",
     "shell.execute_reply": "2024-08-29T23:02:29.311777Z"
    },
    "papermill": {
     "duration": 0.037969,
     "end_time": "2024-08-29T23:02:29.315722",
     "exception": false,
     "start_time": "2024-08-29T23:02:29.277753",
     "status": "completed"
    },
    "tags": []
   },
   "outputs": [],
   "source": [
    "# try get the \"main_product_cat\" as the first one / top level\n",
    "get_main_category = lambda example: re.findall(\"^.+?(?= >>|$)\", example)[0]\n",
    "\n",
    "df[\"main_product_category\"] = df[\"product_category_tree\"].apply(get_main_category)"
   ]
  },
  {
   "cell_type": "code",
   "execution_count": 11,
   "id": "44055728",
   "metadata": {
    "execution": {
     "iopub.execute_input": "2024-08-29T23:02:29.359527Z",
     "iopub.status.busy": "2024-08-29T23:02:29.359087Z",
     "iopub.status.idle": "2024-08-29T23:02:29.374848Z",
     "shell.execute_reply": "2024-08-29T23:02:29.373604Z"
    },
    "papermill": {
     "duration": 0.040378,
     "end_time": "2024-08-29T23:02:29.377532",
     "exception": false,
     "start_time": "2024-08-29T23:02:29.337154",
     "status": "completed"
    },
    "tags": []
   },
   "outputs": [
    {
     "data": {
      "text/plain": [
       "main_product_category\n",
       "[\"Home Furnishing               150\n",
       "[\"Baby Care                     150\n",
       "[\"Watches                       150\n",
       "[\"Home Decor & Festive Needs    150\n",
       "[\"Kitchen & Dining              150\n",
       "[\"Beauty and Personal Care      150\n",
       "[\"Computers                     150\n",
       "Name: count, dtype: int64"
      ]
     },
     "execution_count": 11,
     "metadata": {},
     "output_type": "execute_result"
    }
   ],
   "source": [
    "df[\"main_product_category\"].value_counts()"
   ]
  },
  {
   "cell_type": "code",
   "execution_count": 12,
   "id": "4ac6be51",
   "metadata": {
    "execution": {
     "iopub.execute_input": "2024-08-29T23:02:29.421631Z",
     "iopub.status.busy": "2024-08-29T23:02:29.421224Z",
     "iopub.status.idle": "2024-08-29T23:02:29.433025Z",
     "shell.execute_reply": "2024-08-29T23:02:29.431612Z"
    },
    "papermill": {
     "duration": 0.037571,
     "end_time": "2024-08-29T23:02:29.435912",
     "exception": false,
     "start_time": "2024-08-29T23:02:29.398341",
     "status": "completed"
    },
    "tags": []
   },
   "outputs": [
    {
     "data": {
      "text/plain": [
       "main_product_category\n",
       "Home Furnishing               150\n",
       "Baby Care                     150\n",
       "Watches                       150\n",
       "Home Decor & Festive Needs    150\n",
       "Kitchen & Dining              150\n",
       "Beauty and Personal Care      150\n",
       "Computers                     150\n",
       "Name: count, dtype: int64"
      ]
     },
     "execution_count": 12,
     "metadata": {},
     "output_type": "execute_result"
    }
   ],
   "source": [
    "# !!!!!! ah the remove the [\" O_o\n",
    "df[\"main_product_category\"] = df[\"main_product_category\"].apply(lambda example: example[2:])\n",
    "\n",
    "df[\"main_product_category\"].value_counts()"
   ]
  },
  {
   "cell_type": "markdown",
   "id": "7001dc5d",
   "metadata": {
    "execution": {
     "iopub.execute_input": "2024-08-29T19:25:02.034651Z",
     "iopub.status.busy": "2024-08-29T19:25:02.034218Z",
     "iopub.status.idle": "2024-08-29T19:25:02.039167Z",
     "shell.execute_reply": "2024-08-29T19:25:02.038136Z",
     "shell.execute_reply.started": "2024-08-29T19:25:02.034605Z"
    },
    "papermill": {
     "duration": 0.020726,
     "end_time": "2024-08-29T23:02:29.477555",
     "exception": false,
     "start_time": "2024-08-29T23:02:29.456829",
     "status": "completed"
    },
    "tags": []
   },
   "source": [
    "## Text preprocessing\n",
    "\n",
    "### Nettoyage\n",
    "\n",
    "- tokenize\n",
    "- remove punctuation\n",
    "- lowercase\n",
    "- remove digits"
   ]
  },
  {
   "cell_type": "markdown",
   "id": "15f2d9c3",
   "metadata": {
    "papermill": {
     "duration": 0.021497,
     "end_time": "2024-08-29T23:02:29.521012",
     "exception": false,
     "start_time": "2024-08-29T23:02:29.499515",
     "status": "completed"
    },
    "tags": []
   },
   "source": [
    "## Update\n",
    "\n",
    "At first I used a word tokenizer from nltk but then I realised that the stopwords aren't acually compatible with the tokenizer (!?) since for example:\n",
    "\n",
    "`you'll` is in `STOPWORDS_EN`\n",
    "\n",
    "but...\n",
    "\n",
    "`word_tokenize(\"you\\'ll\") --> ['you', \"'ll\"]`\n",
    "\n",
    "in other words it won't be removed/filtered on stopwords criterion\n",
    "\n",
    "**Therefore I will \"Python `split()` tokenize my examples on space char**"
   ]
  },
  {
   "cell_type": "code",
   "execution_count": 13,
   "id": "ff717624",
   "metadata": {
    "execution": {
     "iopub.execute_input": "2024-08-29T23:02:29.565594Z",
     "iopub.status.busy": "2024-08-29T23:02:29.565142Z",
     "iopub.status.idle": "2024-08-29T23:02:30.548600Z",
     "shell.execute_reply": "2024-08-29T23:02:30.547494Z"
    },
    "papermill": {
     "duration": 1.008968,
     "end_time": "2024-08-29T23:02:30.551414",
     "exception": false,
     "start_time": "2024-08-29T23:02:29.542446",
     "status": "completed"
    },
    "tags": []
   },
   "outputs": [
    {
     "name": "stdout",
     "output_type": "stream",
     "text": [
      "['you', \"'ll\", 'you', \"'ll\", 'test', 'themselves']\n"
     ]
    }
   ],
   "source": [
    "from nltk import word_tokenize\n",
    "\n",
    "sample = \"you\\'ll you'll test themselves\"\n",
    "\n",
    "print(word_tokenize(sample))"
   ]
  },
  {
   "cell_type": "code",
   "execution_count": 14,
   "id": "f6080be9",
   "metadata": {
    "execution": {
     "iopub.execute_input": "2024-08-29T23:02:30.595343Z",
     "iopub.status.busy": "2024-08-29T23:02:30.594897Z",
     "iopub.status.idle": "2024-08-29T23:02:30.612294Z",
     "shell.execute_reply": "2024-08-29T23:02:30.610780Z"
    },
    "papermill": {
     "duration": 0.042377,
     "end_time": "2024-08-29T23:02:30.615075",
     "exception": false,
     "start_time": "2024-08-29T23:02:30.572698",
     "status": "completed"
    },
    "tags": []
   },
   "outputs": [
    {
     "data": {
      "text/plain": [
       "['i',\n",
       " 'me',\n",
       " 'my',\n",
       " 'myself',\n",
       " 'we',\n",
       " 'our',\n",
       " 'ours',\n",
       " 'ourselves',\n",
       " 'you',\n",
       " \"you're\",\n",
       " \"you've\",\n",
       " \"you'll\",\n",
       " \"you'd\",\n",
       " 'your',\n",
       " 'yours',\n",
       " 'yourself',\n",
       " 'yourselves',\n",
       " 'he',\n",
       " 'him',\n",
       " 'his',\n",
       " 'himself',\n",
       " 'she',\n",
       " \"she's\",\n",
       " 'her',\n",
       " 'hers',\n",
       " 'herself',\n",
       " 'it',\n",
       " \"it's\",\n",
       " 'its',\n",
       " 'itself',\n",
       " 'they',\n",
       " 'them',\n",
       " 'their',\n",
       " 'theirs',\n",
       " 'themselves',\n",
       " 'what',\n",
       " 'which',\n",
       " 'who',\n",
       " 'whom',\n",
       " 'this',\n",
       " 'that',\n",
       " \"that'll\",\n",
       " 'these',\n",
       " 'those',\n",
       " 'am',\n",
       " 'is',\n",
       " 'are',\n",
       " 'was',\n",
       " 'were',\n",
       " 'be',\n",
       " 'been',\n",
       " 'being',\n",
       " 'have',\n",
       " 'has',\n",
       " 'had',\n",
       " 'having',\n",
       " 'do',\n",
       " 'does',\n",
       " 'did',\n",
       " 'doing',\n",
       " 'a',\n",
       " 'an',\n",
       " 'the',\n",
       " 'and',\n",
       " 'but',\n",
       " 'if',\n",
       " 'or',\n",
       " 'because',\n",
       " 'as',\n",
       " 'until',\n",
       " 'while',\n",
       " 'of',\n",
       " 'at',\n",
       " 'by',\n",
       " 'for',\n",
       " 'with',\n",
       " 'about',\n",
       " 'against',\n",
       " 'between',\n",
       " 'into',\n",
       " 'through',\n",
       " 'during',\n",
       " 'before',\n",
       " 'after',\n",
       " 'above',\n",
       " 'below',\n",
       " 'to',\n",
       " 'from',\n",
       " 'up',\n",
       " 'down',\n",
       " 'in',\n",
       " 'out',\n",
       " 'on',\n",
       " 'off',\n",
       " 'over',\n",
       " 'under',\n",
       " 'again',\n",
       " 'further',\n",
       " 'then',\n",
       " 'once',\n",
       " 'here',\n",
       " 'there',\n",
       " 'when',\n",
       " 'where',\n",
       " 'why',\n",
       " 'how',\n",
       " 'all',\n",
       " 'any',\n",
       " 'both',\n",
       " 'each',\n",
       " 'few',\n",
       " 'more',\n",
       " 'most',\n",
       " 'other',\n",
       " 'some',\n",
       " 'such',\n",
       " 'no',\n",
       " 'nor',\n",
       " 'not',\n",
       " 'only',\n",
       " 'own',\n",
       " 'same',\n",
       " 'so',\n",
       " 'than',\n",
       " 'too',\n",
       " 'very',\n",
       " 's',\n",
       " 't',\n",
       " 'can',\n",
       " 'will',\n",
       " 'just',\n",
       " 'don',\n",
       " \"don't\",\n",
       " 'should',\n",
       " \"should've\",\n",
       " 'now',\n",
       " 'd',\n",
       " 'll',\n",
       " 'm',\n",
       " 'o',\n",
       " 're',\n",
       " 've',\n",
       " 'y',\n",
       " 'ain',\n",
       " 'aren',\n",
       " \"aren't\",\n",
       " 'couldn',\n",
       " \"couldn't\",\n",
       " 'didn',\n",
       " \"didn't\",\n",
       " 'doesn',\n",
       " \"doesn't\",\n",
       " 'hadn',\n",
       " \"hadn't\",\n",
       " 'hasn',\n",
       " \"hasn't\",\n",
       " 'haven',\n",
       " \"haven't\",\n",
       " 'isn',\n",
       " \"isn't\",\n",
       " 'ma',\n",
       " 'mightn',\n",
       " \"mightn't\",\n",
       " 'mustn',\n",
       " \"mustn't\",\n",
       " 'needn',\n",
       " \"needn't\",\n",
       " 'shan',\n",
       " \"shan't\",\n",
       " 'shouldn',\n",
       " \"shouldn't\",\n",
       " 'wasn',\n",
       " \"wasn't\",\n",
       " 'weren',\n",
       " \"weren't\",\n",
       " 'won',\n",
       " \"won't\",\n",
       " 'wouldn',\n",
       " \"wouldn't\"]"
      ]
     },
     "execution_count": 14,
     "metadata": {},
     "output_type": "execute_result"
    }
   ],
   "source": [
    "from nltk.corpus import stopwords\n",
    "\n",
    "STOPWORDS_EN = stopwords.words(\"english\")\n",
    "\n",
    "STOPWORDS_EN"
   ]
  },
  {
   "cell_type": "code",
   "execution_count": 15,
   "id": "8e0bf79d",
   "metadata": {
    "execution": {
     "iopub.execute_input": "2024-08-29T23:02:30.660407Z",
     "iopub.status.busy": "2024-08-29T23:02:30.659929Z",
     "iopub.status.idle": "2024-08-29T23:02:30.665792Z",
     "shell.execute_reply": "2024-08-29T23:02:30.664306Z"
    },
    "papermill": {
     "duration": 0.032257,
     "end_time": "2024-08-29T23:02:30.668755",
     "exception": false,
     "start_time": "2024-08-29T23:02:30.636498",
     "status": "completed"
    },
    "tags": []
   },
   "outputs": [],
   "source": [
    "# convert to set for lookup\n",
    "\n",
    "STOPWORDS_EN = set(STOPWORDS_EN)"
   ]
  },
  {
   "cell_type": "code",
   "execution_count": 16,
   "id": "047f3c4a",
   "metadata": {
    "collapsed": true,
    "execution": {
     "iopub.execute_input": "2024-08-29T23:02:30.714039Z",
     "iopub.status.busy": "2024-08-29T23:02:30.713545Z",
     "iopub.status.idle": "2024-08-29T23:02:30.722341Z",
     "shell.execute_reply": "2024-08-29T23:02:30.721103Z"
    },
    "jupyter": {
     "outputs_hidden": true
    },
    "papermill": {
     "duration": 0.034592,
     "end_time": "2024-08-29T23:02:30.724953",
     "exception": false,
     "start_time": "2024-08-29T23:02:30.690361",
     "status": "completed"
    },
    "tags": []
   },
   "outputs": [
    {
     "data": {
      "text/plain": [
       "{'!',\n",
       " '\"',\n",
       " '#',\n",
       " '$',\n",
       " '%',\n",
       " '&',\n",
       " \"'\",\n",
       " '(',\n",
       " ')',\n",
       " '*',\n",
       " '+',\n",
       " ',',\n",
       " '-',\n",
       " '.',\n",
       " '/',\n",
       " ':',\n",
       " ';',\n",
       " '<',\n",
       " '=',\n",
       " '>',\n",
       " '?',\n",
       " '@',\n",
       " '[',\n",
       " '\\\\',\n",
       " ']',\n",
       " '^',\n",
       " '_',\n",
       " '`',\n",
       " '{',\n",
       " '|',\n",
       " '}',\n",
       " '~'}"
      ]
     },
     "execution_count": 16,
     "metadata": {},
     "output_type": "execute_result"
    }
   ],
   "source": [
    "from string import punctuation as PUNCT_EN\n",
    "\n",
    "PUNCT_EN = set(PUNCT_EN)\n",
    "\n",
    "PUNCT_EN"
   ]
  },
  {
   "cell_type": "code",
   "execution_count": 17,
   "id": "2280b145",
   "metadata": {
    "execution": {
     "iopub.execute_input": "2024-08-29T23:02:30.769479Z",
     "iopub.status.busy": "2024-08-29T23:02:30.769032Z",
     "iopub.status.idle": "2024-08-29T23:02:30.776017Z",
     "shell.execute_reply": "2024-08-29T23:02:30.774788Z"
    },
    "papermill": {
     "duration": 0.032497,
     "end_time": "2024-08-29T23:02:30.778789",
     "exception": false,
     "start_time": "2024-08-29T23:02:30.746292",
     "status": "completed"
    },
    "tags": []
   },
   "outputs": [
    {
     "name": "stdout",
     "output_type": "stream",
     "text": [
      "a123 : False\n",
      "141 : False\n",
      "32v1341 : False\n",
      "ok : True\n",
      "not_ok : False\n",
      "OkOKokOOKKKOKOK : True\n",
      "not.ok : False\n"
     ]
    }
   ],
   "source": [
    "# testing that isalpha() behaves as expected\n",
    "\n",
    "for test_x in [\"a123\", \"141\", \"32v1341\", \"ok\", \"not_ok\", \"OkOKokOOKKKOKOK\", \"not.ok\"]:\n",
    "    print(test_x, \":\", test_x.isalpha())"
   ]
  },
  {
   "cell_type": "code",
   "execution_count": 18,
   "id": "59babecc",
   "metadata": {
    "execution": {
     "iopub.execute_input": "2024-08-29T23:02:30.825564Z",
     "iopub.status.busy": "2024-08-29T23:02:30.825141Z",
     "iopub.status.idle": "2024-08-29T23:02:30.833908Z",
     "shell.execute_reply": "2024-08-29T23:02:30.832650Z"
    },
    "papermill": {
     "duration": 0.036026,
     "end_time": "2024-08-29T23:02:30.836533",
     "exception": false,
     "start_time": "2024-08-29T23:02:30.800507",
     "status": "completed"
    },
    "tags": []
   },
   "outputs": [],
   "source": [
    "def do_preprocessing(example: str) -> str:\n",
    "    \"\"\"\n",
    "    Does the text preprocessing on the product descriptions.\n",
    "    \n",
    "    NOTE:\n",
    "    \n",
    "    Some of this can be optimized / done with regex but the idea here\n",
    "    is to visualize and account for each step (also only 1050 rows so\n",
    "    performance isn't priority yet O_o)\n",
    "    \"\"\"\n",
    "    \n",
    "    # -- tokenize --\n",
    "    # UPDATE: see comments why we'll split on space char instead of word_tokenize\n",
    "    tokenized_example = example.split(' ') # default is space but just to emphasize\n",
    "    \n",
    "    # -- process all words in the tokenized description:\n",
    "    # 1. remove words which contain numbers\n",
    "    # 2. remove punctuation and stopwords\n",
    "    # 3. converts to LOWERCASE while iterating through also\n",
    "    processed = [word.lower()\n",
    "                 for word in tokenized_example\n",
    "                 if (word.isalpha()) and (word not in PUNCT_EN) and (word not in STOPWORDS_EN)]\n",
    "    \n",
    "    return processed"
   ]
  },
  {
   "cell_type": "code",
   "execution_count": 19,
   "id": "8b8ae760",
   "metadata": {
    "collapsed": true,
    "execution": {
     "iopub.execute_input": "2024-08-29T23:02:30.881750Z",
     "iopub.status.busy": "2024-08-29T23:02:30.881286Z",
     "iopub.status.idle": "2024-08-29T23:02:30.897114Z",
     "shell.execute_reply": "2024-08-29T23:02:30.895695Z"
    },
    "jupyter": {
     "outputs_hidden": true
    },
    "papermill": {
     "duration": 0.042268,
     "end_time": "2024-08-29T23:02:30.900451",
     "exception": false,
     "start_time": "2024-08-29T23:02:30.858183",
     "status": "completed"
    },
    "tags": []
   },
   "outputs": [
    {
     "data": {
      "text/plain": [
       "'Key Features of Elegance Polyester Multicolor Abstract Eyelet Door Curtain Floral Curtain,Elegance Polyester Multicolor Abstract Eyelet Door Curtain (213 cm in Height, Pack of 2) Price: Rs. 899 This curtain enhances the look of the interiors.This curtain is made from 100% high quality polyester fabric.It features an eyelet style stitch with Metal Ring.It makes the room environment romantic and loving.This curtain is ant- wrinkle and anti shrinkage and have elegant apparance.Give your home a bright and modernistic appeal with these designs. The surreal attention is sure to steal hearts. These contemporary eyelet and valance curtains slide smoothly so when you draw them apart first thing in the morning to welcome the bright sun rays you want to wish good morning to the whole world and when you draw them close in the evening, you create the most special moments of joyous beauty given by the soothing prints. Bring home the elegant curtain that softly filters light in your room so that you get the right amount of sunlight.,Specifications of Elegance Polyester Multicolor Abstract Eyelet Door Curtain (213 cm in Height, Pack of 2) General Brand Elegance Designed For Door Type Eyelet Model Name Abstract Polyester Door Curtain Set Of 2 Model ID Duster25 Color Multicolor Dimensions Length 213 cm In the Box Number of Contents in Sales Package Pack of 2 Sales Package 2 Curtains Body & Design Material Polyester'"
      ]
     },
     "metadata": {},
     "output_type": "display_data"
    },
    {
     "name": "stdout",
     "output_type": "stream",
     "text": [
      "===\n"
     ]
    },
    {
     "data": {
      "text/plain": [
       "['key',\n",
       " 'features',\n",
       " 'elegance',\n",
       " 'polyester',\n",
       " 'multicolor',\n",
       " 'abstract',\n",
       " 'eyelet',\n",
       " 'door',\n",
       " 'curtain',\n",
       " 'floral',\n",
       " 'polyester',\n",
       " 'multicolor',\n",
       " 'abstract',\n",
       " 'eyelet',\n",
       " 'door',\n",
       " 'curtain',\n",
       " 'cm',\n",
       " 'pack',\n",
       " 'this',\n",
       " 'curtain',\n",
       " 'enhances',\n",
       " 'look',\n",
       " 'curtain',\n",
       " 'made',\n",
       " 'high',\n",
       " 'quality',\n",
       " 'polyester',\n",
       " 'features',\n",
       " 'eyelet',\n",
       " 'style',\n",
       " 'stitch',\n",
       " 'metal',\n",
       " 'makes',\n",
       " 'room',\n",
       " 'environment',\n",
       " 'romantic',\n",
       " 'curtain',\n",
       " 'wrinkle',\n",
       " 'anti',\n",
       " 'shrinkage',\n",
       " 'elegant',\n",
       " 'home',\n",
       " 'bright',\n",
       " 'modernistic',\n",
       " 'appeal',\n",
       " 'the',\n",
       " 'surreal',\n",
       " 'attention',\n",
       " 'sure',\n",
       " 'steal',\n",
       " 'these',\n",
       " 'contemporary',\n",
       " 'eyelet',\n",
       " 'valance',\n",
       " 'curtains',\n",
       " 'slide',\n",
       " 'smoothly',\n",
       " 'draw',\n",
       " 'apart',\n",
       " 'first',\n",
       " 'thing',\n",
       " 'morning',\n",
       " 'welcome',\n",
       " 'bright',\n",
       " 'sun',\n",
       " 'rays',\n",
       " 'want',\n",
       " 'wish',\n",
       " 'good',\n",
       " 'morning',\n",
       " 'whole',\n",
       " 'world',\n",
       " 'draw',\n",
       " 'close',\n",
       " 'create',\n",
       " 'special',\n",
       " 'moments',\n",
       " 'joyous',\n",
       " 'beauty',\n",
       " 'given',\n",
       " 'soothing',\n",
       " 'bring',\n",
       " 'home',\n",
       " 'elegant',\n",
       " 'curtain',\n",
       " 'softly',\n",
       " 'filters',\n",
       " 'light',\n",
       " 'room',\n",
       " 'get',\n",
       " 'right',\n",
       " 'amount',\n",
       " 'elegance',\n",
       " 'polyester',\n",
       " 'multicolor',\n",
       " 'abstract',\n",
       " 'eyelet',\n",
       " 'door',\n",
       " 'curtain',\n",
       " 'cm',\n",
       " 'pack',\n",
       " 'general',\n",
       " 'brand',\n",
       " 'elegance',\n",
       " 'designed',\n",
       " 'for',\n",
       " 'door',\n",
       " 'type',\n",
       " 'eyelet',\n",
       " 'model',\n",
       " 'name',\n",
       " 'abstract',\n",
       " 'polyester',\n",
       " 'door',\n",
       " 'curtain',\n",
       " 'set',\n",
       " 'of',\n",
       " 'model',\n",
       " 'id',\n",
       " 'color',\n",
       " 'multicolor',\n",
       " 'dimensions',\n",
       " 'length',\n",
       " 'cm',\n",
       " 'in',\n",
       " 'box',\n",
       " 'number',\n",
       " 'contents',\n",
       " 'sales',\n",
       " 'package',\n",
       " 'pack',\n",
       " 'sales',\n",
       " 'package',\n",
       " 'curtains',\n",
       " 'body',\n",
       " 'design',\n",
       " 'material',\n",
       " 'polyester']"
      ]
     },
     "metadata": {},
     "output_type": "display_data"
    }
   ],
   "source": [
    "test_preprocessing = df.loc[0, \"description\"]\n",
    "\n",
    "display(test_preprocessing)\n",
    "\n",
    "print(\"===\")\n",
    "\n",
    "display(do_preprocessing(test_preprocessing))"
   ]
  },
  {
   "cell_type": "markdown",
   "id": "d9099aea",
   "metadata": {
    "papermill": {
     "duration": 0.021804,
     "end_time": "2024-08-29T23:02:30.945375",
     "exception": false,
     "start_time": "2024-08-29T23:02:30.923571",
     "status": "completed"
    },
    "tags": []
   },
   "source": [
    "### Stemming and lemmatization\n",
    "\n",
    "- update: discussion mentor, good idea to keep the 2 so can see which one helps"
   ]
  },
  {
   "cell_type": "code",
   "execution_count": 20,
   "id": "5b2dc040",
   "metadata": {
    "execution": {
     "iopub.execute_input": "2024-08-29T23:02:30.992092Z",
     "iopub.status.busy": "2024-08-29T23:02:30.991566Z",
     "iopub.status.idle": "2024-08-29T23:02:30.998008Z",
     "shell.execute_reply": "2024-08-29T23:02:30.996535Z"
    },
    "papermill": {
     "duration": 0.033081,
     "end_time": "2024-08-29T23:02:31.000574",
     "exception": false,
     "start_time": "2024-08-29T23:02:30.967493",
     "status": "completed"
    },
    "tags": []
   },
   "outputs": [],
   "source": [
    "from nltk.stem import WordNetLemmatizer, PorterStemmer\n",
    " \n",
    "lemmatizer = WordNetLemmatizer() # NLTK lemmatizes on nouns (POS='n') by default\n",
    "\n",
    "stemmer = PorterStemmer()"
   ]
  },
  {
   "cell_type": "code",
   "execution_count": 21,
   "id": "d211647e",
   "metadata": {
    "execution": {
     "iopub.execute_input": "2024-08-29T23:02:31.046678Z",
     "iopub.status.busy": "2024-08-29T23:02:31.046256Z",
     "iopub.status.idle": "2024-08-29T23:02:31.051638Z",
     "shell.execute_reply": "2024-08-29T23:02:31.050455Z"
    },
    "papermill": {
     "duration": 0.031413,
     "end_time": "2024-08-29T23:02:31.054115",
     "exception": false,
     "start_time": "2024-08-29T23:02:31.022702",
     "status": "completed"
    },
    "tags": []
   },
   "outputs": [],
   "source": [
    "#nltk.download(\"wordnet\")"
   ]
  },
  {
   "cell_type": "code",
   "execution_count": 22,
   "id": "db627ad2",
   "metadata": {
    "execution": {
     "iopub.execute_input": "2024-08-29T23:02:31.101136Z",
     "iopub.status.busy": "2024-08-29T23:02:31.100000Z",
     "iopub.status.idle": "2024-08-29T23:02:32.692161Z",
     "shell.execute_reply": "2024-08-29T23:02:32.690490Z"
    },
    "papermill": {
     "duration": 1.619132,
     "end_time": "2024-08-29T23:02:32.695321",
     "exception": false,
     "start_time": "2024-08-29T23:02:31.076189",
     "status": "completed"
    },
    "tags": []
   },
   "outputs": [
    {
     "name": "stdout",
     "output_type": "stream",
     "text": [
      "Archive:  /usr/share/nltk_data/corpora/wordnet.zip\r\n",
      "   creating: /usr/share/nltk_data/corpora/wordnet/\r\n",
      "  inflating: /usr/share/nltk_data/corpora/wordnet/lexnames  \r\n",
      "  inflating: /usr/share/nltk_data/corpora/wordnet/data.verb  \r\n",
      "  inflating: /usr/share/nltk_data/corpora/wordnet/index.adv  \r\n",
      "  inflating: /usr/share/nltk_data/corpora/wordnet/adv.exc  \r\n",
      "  inflating: /usr/share/nltk_data/corpora/wordnet/index.verb  \r\n",
      "  inflating: /usr/share/nltk_data/corpora/wordnet/cntlist.rev  \r\n",
      "  inflating: /usr/share/nltk_data/corpora/wordnet/data.adj  \r\n",
      "  inflating: /usr/share/nltk_data/corpora/wordnet/index.adj  \r\n",
      "  inflating: /usr/share/nltk_data/corpora/wordnet/LICENSE  \r\n",
      "  inflating: /usr/share/nltk_data/corpora/wordnet/citation.bib  \r\n",
      "  inflating: /usr/share/nltk_data/corpora/wordnet/noun.exc  \r\n",
      "  inflating: /usr/share/nltk_data/corpora/wordnet/verb.exc  \r\n",
      "  inflating: /usr/share/nltk_data/corpora/wordnet/README  \r\n",
      "  inflating: /usr/share/nltk_data/corpora/wordnet/index.sense  \r\n",
      "  inflating: /usr/share/nltk_data/corpora/wordnet/data.noun  \r\n",
      "  inflating: /usr/share/nltk_data/corpora/wordnet/data.adv  \r\n",
      "  inflating: /usr/share/nltk_data/corpora/wordnet/index.noun  \r\n",
      "  inflating: /usr/share/nltk_data/corpora/wordnet/adj.exc  \r\n"
     ]
    }
   ],
   "source": [
    "# needed this to get WordNet to work -.-\n",
    "!unzip /usr/share/nltk_data/corpora/wordnet.zip -d /usr/share/nltk_data/corpora/"
   ]
  },
  {
   "cell_type": "code",
   "execution_count": 23,
   "id": "3982cd00",
   "metadata": {
    "execution": {
     "iopub.execute_input": "2024-08-29T23:02:32.744233Z",
     "iopub.status.busy": "2024-08-29T23:02:32.743688Z",
     "iopub.status.idle": "2024-08-29T23:02:35.220339Z",
     "shell.execute_reply": "2024-08-29T23:02:35.219138Z"
    },
    "papermill": {
     "duration": 2.504667,
     "end_time": "2024-08-29T23:02:35.223557",
     "exception": false,
     "start_time": "2024-08-29T23:02:32.718890",
     "status": "completed"
    },
    "tags": []
   },
   "outputs": [
    {
     "name": "stdout",
     "output_type": "stream",
     "text": [
      "cat cat cat\n",
      "cats cat cat\n",
      "catty catti catty\n",
      "good good good\n",
      "goodest goodest goodest\n",
      "gooder gooder gooder\n",
      "best best best\n",
      "great great great\n",
      "better better better\n",
      "betters better better\n",
      "program program program\n",
      "programs program program\n",
      "programmer programm programmer\n"
     ]
    }
   ],
   "source": [
    "test_stem_and_lem = [\"cat\", \"cats\", \"catty\", \"good\", \"goodest\", \"gooder\", \"best\", \"great\", \"better\", \"betters\", \"program\",\"programs\",\"programmer\"]\n",
    "\n",
    "for x in test_stem_and_lem:\n",
    "    print(x, stemmer.stem(x), lemmatizer.lemmatize(x))"
   ]
  },
  {
   "cell_type": "code",
   "execution_count": 24,
   "id": "976bb5e2",
   "metadata": {
    "execution": {
     "iopub.execute_input": "2024-08-29T23:02:35.271160Z",
     "iopub.status.busy": "2024-08-29T23:02:35.270642Z",
     "iopub.status.idle": "2024-08-29T23:02:35.316151Z",
     "shell.execute_reply": "2024-08-29T23:02:35.314664Z"
    },
    "papermill": {
     "duration": 0.072713,
     "end_time": "2024-08-29T23:02:35.319099",
     "exception": false,
     "start_time": "2024-08-29T23:02:35.246386",
     "status": "completed"
    },
    "tags": []
   },
   "outputs": [],
   "source": [
    "df[\"processed_description\"] = df[\"description\"].apply(do_preprocessing)"
   ]
  },
  {
   "cell_type": "code",
   "execution_count": 25,
   "id": "f281caaf",
   "metadata": {
    "execution": {
     "iopub.execute_input": "2024-08-29T23:02:35.368111Z",
     "iopub.status.busy": "2024-08-29T23:02:35.367596Z",
     "iopub.status.idle": "2024-08-29T23:02:35.396320Z",
     "shell.execute_reply": "2024-08-29T23:02:35.394909Z"
    },
    "papermill": {
     "duration": 0.05587,
     "end_time": "2024-08-29T23:02:35.399086",
     "exception": false,
     "start_time": "2024-08-29T23:02:35.343216",
     "status": "completed"
    },
    "tags": []
   },
   "outputs": [
    {
     "data": {
      "text/html": [
       "<div>\n",
       "<style scoped>\n",
       "    .dataframe tbody tr th:only-of-type {\n",
       "        vertical-align: middle;\n",
       "    }\n",
       "\n",
       "    .dataframe tbody tr th {\n",
       "        vertical-align: top;\n",
       "    }\n",
       "\n",
       "    .dataframe thead th {\n",
       "        text-align: right;\n",
       "    }\n",
       "</style>\n",
       "<table border=\"1\" class=\"dataframe\">\n",
       "  <thead>\n",
       "    <tr style=\"text-align: right;\">\n",
       "      <th></th>\n",
       "      <th>uniq_id</th>\n",
       "      <th>crawl_timestamp</th>\n",
       "      <th>product_url</th>\n",
       "      <th>product_name</th>\n",
       "      <th>product_category_tree</th>\n",
       "      <th>pid</th>\n",
       "      <th>retail_price</th>\n",
       "      <th>discounted_price</th>\n",
       "      <th>image</th>\n",
       "      <th>is_FK_Advantage_product</th>\n",
       "      <th>description</th>\n",
       "      <th>product_rating</th>\n",
       "      <th>overall_rating</th>\n",
       "      <th>brand</th>\n",
       "      <th>product_specifications</th>\n",
       "      <th>main_product_category</th>\n",
       "      <th>processed_description</th>\n",
       "    </tr>\n",
       "  </thead>\n",
       "  <tbody>\n",
       "    <tr>\n",
       "      <th>0</th>\n",
       "      <td>55b85ea15a1536d46b7190ad6fff8ce7</td>\n",
       "      <td>2016-04-30 03:22:56 +0000</td>\n",
       "      <td>http://www.flipkart.com/elegance-polyester-mul...</td>\n",
       "      <td>Elegance Polyester Multicolor Abstract Eyelet ...</td>\n",
       "      <td>[\"Home Furnishing &gt;&gt; Curtains &amp; Accessories &gt;&gt;...</td>\n",
       "      <td>CRNEG7BKMFFYHQ8Z</td>\n",
       "      <td>1899.0</td>\n",
       "      <td>899.0</td>\n",
       "      <td>55b85ea15a1536d46b7190ad6fff8ce7.jpg</td>\n",
       "      <td>False</td>\n",
       "      <td>Key Features of Elegance Polyester Multicolor ...</td>\n",
       "      <td>No rating available</td>\n",
       "      <td>No rating available</td>\n",
       "      <td>Elegance</td>\n",
       "      <td>{\"product_specification\"=&gt;[{\"key\"=&gt;\"Brand\", \"v...</td>\n",
       "      <td>Home Furnishing</td>\n",
       "      <td>[key, features, elegance, polyester, multicolo...</td>\n",
       "    </tr>\n",
       "    <tr>\n",
       "      <th>1</th>\n",
       "      <td>7b72c92c2f6c40268628ec5f14c6d590</td>\n",
       "      <td>2016-04-30 03:22:56 +0000</td>\n",
       "      <td>http://www.flipkart.com/sathiyas-cotton-bath-t...</td>\n",
       "      <td>Sathiyas Cotton Bath Towel</td>\n",
       "      <td>[\"Baby Care &gt;&gt; Baby Bath &amp; Skin &gt;&gt; Baby Bath T...</td>\n",
       "      <td>BTWEGFZHGBXPHZUH</td>\n",
       "      <td>600.0</td>\n",
       "      <td>449.0</td>\n",
       "      <td>7b72c92c2f6c40268628ec5f14c6d590.jpg</td>\n",
       "      <td>False</td>\n",
       "      <td>Specifications of Sathiyas Cotton Bath Towel (...</td>\n",
       "      <td>No rating available</td>\n",
       "      <td>No rating available</td>\n",
       "      <td>Sathiyas</td>\n",
       "      <td>{\"product_specification\"=&gt;[{\"key\"=&gt;\"Machine Wa...</td>\n",
       "      <td>Baby Care</td>\n",
       "      <td>[specifications, sathiyas, cotton, bath, towel...</td>\n",
       "    </tr>\n",
       "    <tr>\n",
       "      <th>2</th>\n",
       "      <td>64d5d4a258243731dc7bbb1eef49ad74</td>\n",
       "      <td>2016-04-30 03:22:56 +0000</td>\n",
       "      <td>http://www.flipkart.com/eurospa-cotton-terry-f...</td>\n",
       "      <td>Eurospa Cotton Terry Face Towel Set</td>\n",
       "      <td>[\"Baby Care &gt;&gt; Baby Bath &amp; Skin &gt;&gt; Baby Bath T...</td>\n",
       "      <td>BTWEG6SHXTDB2A2Y</td>\n",
       "      <td>NaN</td>\n",
       "      <td>NaN</td>\n",
       "      <td>64d5d4a258243731dc7bbb1eef49ad74.jpg</td>\n",
       "      <td>False</td>\n",
       "      <td>Key Features of Eurospa Cotton Terry Face Towe...</td>\n",
       "      <td>No rating available</td>\n",
       "      <td>No rating available</td>\n",
       "      <td>Eurospa</td>\n",
       "      <td>{\"product_specification\"=&gt;[{\"key\"=&gt;\"Material\",...</td>\n",
       "      <td>Baby Care</td>\n",
       "      <td>[key, features, eurospa, cotton, terry, face, ...</td>\n",
       "    </tr>\n",
       "  </tbody>\n",
       "</table>\n",
       "</div>"
      ],
      "text/plain": [
       "                            uniq_id            crawl_timestamp  \\\n",
       "0  55b85ea15a1536d46b7190ad6fff8ce7  2016-04-30 03:22:56 +0000   \n",
       "1  7b72c92c2f6c40268628ec5f14c6d590  2016-04-30 03:22:56 +0000   \n",
       "2  64d5d4a258243731dc7bbb1eef49ad74  2016-04-30 03:22:56 +0000   \n",
       "\n",
       "                                         product_url  \\\n",
       "0  http://www.flipkart.com/elegance-polyester-mul...   \n",
       "1  http://www.flipkart.com/sathiyas-cotton-bath-t...   \n",
       "2  http://www.flipkart.com/eurospa-cotton-terry-f...   \n",
       "\n",
       "                                        product_name  \\\n",
       "0  Elegance Polyester Multicolor Abstract Eyelet ...   \n",
       "1                         Sathiyas Cotton Bath Towel   \n",
       "2                Eurospa Cotton Terry Face Towel Set   \n",
       "\n",
       "                               product_category_tree               pid  \\\n",
       "0  [\"Home Furnishing >> Curtains & Accessories >>...  CRNEG7BKMFFYHQ8Z   \n",
       "1  [\"Baby Care >> Baby Bath & Skin >> Baby Bath T...  BTWEGFZHGBXPHZUH   \n",
       "2  [\"Baby Care >> Baby Bath & Skin >> Baby Bath T...  BTWEG6SHXTDB2A2Y   \n",
       "\n",
       "   retail_price  discounted_price                                 image  \\\n",
       "0        1899.0             899.0  55b85ea15a1536d46b7190ad6fff8ce7.jpg   \n",
       "1         600.0             449.0  7b72c92c2f6c40268628ec5f14c6d590.jpg   \n",
       "2           NaN               NaN  64d5d4a258243731dc7bbb1eef49ad74.jpg   \n",
       "\n",
       "   is_FK_Advantage_product                                        description  \\\n",
       "0                    False  Key Features of Elegance Polyester Multicolor ...   \n",
       "1                    False  Specifications of Sathiyas Cotton Bath Towel (...   \n",
       "2                    False  Key Features of Eurospa Cotton Terry Face Towe...   \n",
       "\n",
       "        product_rating       overall_rating     brand  \\\n",
       "0  No rating available  No rating available  Elegance   \n",
       "1  No rating available  No rating available  Sathiyas   \n",
       "2  No rating available  No rating available   Eurospa   \n",
       "\n",
       "                              product_specifications main_product_category  \\\n",
       "0  {\"product_specification\"=>[{\"key\"=>\"Brand\", \"v...       Home Furnishing   \n",
       "1  {\"product_specification\"=>[{\"key\"=>\"Machine Wa...             Baby Care   \n",
       "2  {\"product_specification\"=>[{\"key\"=>\"Material\",...             Baby Care   \n",
       "\n",
       "                               processed_description  \n",
       "0  [key, features, elegance, polyester, multicolo...  \n",
       "1  [specifications, sathiyas, cotton, bath, towel...  \n",
       "2  [key, features, eurospa, cotton, terry, face, ...  "
      ]
     },
     "execution_count": 25,
     "metadata": {},
     "output_type": "execute_result"
    }
   ],
   "source": [
    "df.head(3)\n",
    "\n",
    "# ok works\n",
    "#df.loc[0, \"processed_description\"] "
   ]
  },
  {
   "cell_type": "code",
   "execution_count": 26,
   "id": "4d834887",
   "metadata": {
    "execution": {
     "iopub.execute_input": "2024-08-29T23:02:35.447447Z",
     "iopub.status.busy": "2024-08-29T23:02:35.446964Z",
     "iopub.status.idle": "2024-08-29T23:02:35.453977Z",
     "shell.execute_reply": "2024-08-29T23:02:35.452696Z"
    },
    "papermill": {
     "duration": 0.034633,
     "end_time": "2024-08-29T23:02:35.456859",
     "exception": false,
     "start_time": "2024-08-29T23:02:35.422226",
     "status": "completed"
    },
    "tags": []
   },
   "outputs": [],
   "source": [
    "def do_stemming(example):\n",
    "    return [stemmer.stem(word) for word in example]\n",
    "\n",
    "def do_lemmatization(example):\n",
    "    return [lemmatizer.lemmatize(word) for word in example]"
   ]
  },
  {
   "cell_type": "code",
   "execution_count": 27,
   "id": "2d2d1591",
   "metadata": {
    "execution": {
     "iopub.execute_input": "2024-08-29T23:02:35.506973Z",
     "iopub.status.busy": "2024-08-29T23:02:35.506508Z",
     "iopub.status.idle": "2024-08-29T23:02:37.295723Z",
     "shell.execute_reply": "2024-08-29T23:02:37.294089Z"
    },
    "papermill": {
     "duration": 1.817551,
     "end_time": "2024-08-29T23:02:37.298658",
     "exception": false,
     "start_time": "2024-08-29T23:02:35.481107",
     "status": "completed"
    },
    "tags": []
   },
   "outputs": [],
   "source": [
    "df[\"stemmed_description\"] = df[\"processed_description\"].apply(do_stemming)"
   ]
  },
  {
   "cell_type": "code",
   "execution_count": 28,
   "id": "9df88813",
   "metadata": {
    "execution": {
     "iopub.execute_input": "2024-08-29T23:02:37.347913Z",
     "iopub.status.busy": "2024-08-29T23:02:37.347397Z",
     "iopub.status.idle": "2024-08-29T23:02:37.835476Z",
     "shell.execute_reply": "2024-08-29T23:02:37.834225Z"
    },
    "papermill": {
     "duration": 0.516126,
     "end_time": "2024-08-29T23:02:37.838468",
     "exception": false,
     "start_time": "2024-08-29T23:02:37.322342",
     "status": "completed"
    },
    "tags": []
   },
   "outputs": [],
   "source": [
    "df[\"lemmatized_description\"] = df[\"processed_description\"].apply(do_lemmatization)"
   ]
  },
  {
   "cell_type": "code",
   "execution_count": 29,
   "id": "e5951023",
   "metadata": {
    "execution": {
     "iopub.execute_input": "2024-08-29T23:02:37.949151Z",
     "iopub.status.busy": "2024-08-29T23:02:37.947554Z",
     "iopub.status.idle": "2024-08-29T23:02:37.981493Z",
     "shell.execute_reply": "2024-08-29T23:02:37.980304Z"
    },
    "papermill": {
     "duration": 0.062246,
     "end_time": "2024-08-29T23:02:37.984271",
     "exception": false,
     "start_time": "2024-08-29T23:02:37.922025",
     "status": "completed"
    },
    "tags": []
   },
   "outputs": [
    {
     "data": {
      "text/html": [
       "<div>\n",
       "<style scoped>\n",
       "    .dataframe tbody tr th:only-of-type {\n",
       "        vertical-align: middle;\n",
       "    }\n",
       "\n",
       "    .dataframe tbody tr th {\n",
       "        vertical-align: top;\n",
       "    }\n",
       "\n",
       "    .dataframe thead th {\n",
       "        text-align: right;\n",
       "    }\n",
       "</style>\n",
       "<table border=\"1\" class=\"dataframe\">\n",
       "  <thead>\n",
       "    <tr style=\"text-align: right;\">\n",
       "      <th></th>\n",
       "      <th>uniq_id</th>\n",
       "      <th>crawl_timestamp</th>\n",
       "      <th>product_url</th>\n",
       "      <th>product_name</th>\n",
       "      <th>product_category_tree</th>\n",
       "      <th>pid</th>\n",
       "      <th>retail_price</th>\n",
       "      <th>discounted_price</th>\n",
       "      <th>image</th>\n",
       "      <th>is_FK_Advantage_product</th>\n",
       "      <th>description</th>\n",
       "      <th>product_rating</th>\n",
       "      <th>overall_rating</th>\n",
       "      <th>brand</th>\n",
       "      <th>product_specifications</th>\n",
       "      <th>main_product_category</th>\n",
       "      <th>processed_description</th>\n",
       "      <th>stemmed_description</th>\n",
       "      <th>lemmatized_description</th>\n",
       "    </tr>\n",
       "  </thead>\n",
       "  <tbody>\n",
       "    <tr>\n",
       "      <th>0</th>\n",
       "      <td>55b85ea15a1536d46b7190ad6fff8ce7</td>\n",
       "      <td>2016-04-30 03:22:56 +0000</td>\n",
       "      <td>http://www.flipkart.com/elegance-polyester-mul...</td>\n",
       "      <td>Elegance Polyester Multicolor Abstract Eyelet ...</td>\n",
       "      <td>[\"Home Furnishing &gt;&gt; Curtains &amp; Accessories &gt;&gt;...</td>\n",
       "      <td>CRNEG7BKMFFYHQ8Z</td>\n",
       "      <td>1899.0</td>\n",
       "      <td>899.0</td>\n",
       "      <td>55b85ea15a1536d46b7190ad6fff8ce7.jpg</td>\n",
       "      <td>False</td>\n",
       "      <td>Key Features of Elegance Polyester Multicolor ...</td>\n",
       "      <td>No rating available</td>\n",
       "      <td>No rating available</td>\n",
       "      <td>Elegance</td>\n",
       "      <td>{\"product_specification\"=&gt;[{\"key\"=&gt;\"Brand\", \"v...</td>\n",
       "      <td>Home Furnishing</td>\n",
       "      <td>[key, features, elegance, polyester, multicolo...</td>\n",
       "      <td>[key, featur, eleg, polyest, multicolor, abstr...</td>\n",
       "      <td>[key, feature, elegance, polyester, multicolor...</td>\n",
       "    </tr>\n",
       "    <tr>\n",
       "      <th>1</th>\n",
       "      <td>7b72c92c2f6c40268628ec5f14c6d590</td>\n",
       "      <td>2016-04-30 03:22:56 +0000</td>\n",
       "      <td>http://www.flipkart.com/sathiyas-cotton-bath-t...</td>\n",
       "      <td>Sathiyas Cotton Bath Towel</td>\n",
       "      <td>[\"Baby Care &gt;&gt; Baby Bath &amp; Skin &gt;&gt; Baby Bath T...</td>\n",
       "      <td>BTWEGFZHGBXPHZUH</td>\n",
       "      <td>600.0</td>\n",
       "      <td>449.0</td>\n",
       "      <td>7b72c92c2f6c40268628ec5f14c6d590.jpg</td>\n",
       "      <td>False</td>\n",
       "      <td>Specifications of Sathiyas Cotton Bath Towel (...</td>\n",
       "      <td>No rating available</td>\n",
       "      <td>No rating available</td>\n",
       "      <td>Sathiyas</td>\n",
       "      <td>{\"product_specification\"=&gt;[{\"key\"=&gt;\"Machine Wa...</td>\n",
       "      <td>Baby Care</td>\n",
       "      <td>[specifications, sathiyas, cotton, bath, towel...</td>\n",
       "      <td>[specif, sathiya, cotton, bath, towel, bath, b...</td>\n",
       "      <td>[specification, sathiyas, cotton, bath, towel,...</td>\n",
       "    </tr>\n",
       "    <tr>\n",
       "      <th>2</th>\n",
       "      <td>64d5d4a258243731dc7bbb1eef49ad74</td>\n",
       "      <td>2016-04-30 03:22:56 +0000</td>\n",
       "      <td>http://www.flipkart.com/eurospa-cotton-terry-f...</td>\n",
       "      <td>Eurospa Cotton Terry Face Towel Set</td>\n",
       "      <td>[\"Baby Care &gt;&gt; Baby Bath &amp; Skin &gt;&gt; Baby Bath T...</td>\n",
       "      <td>BTWEG6SHXTDB2A2Y</td>\n",
       "      <td>NaN</td>\n",
       "      <td>NaN</td>\n",
       "      <td>64d5d4a258243731dc7bbb1eef49ad74.jpg</td>\n",
       "      <td>False</td>\n",
       "      <td>Key Features of Eurospa Cotton Terry Face Towe...</td>\n",
       "      <td>No rating available</td>\n",
       "      <td>No rating available</td>\n",
       "      <td>Eurospa</td>\n",
       "      <td>{\"product_specification\"=&gt;[{\"key\"=&gt;\"Material\",...</td>\n",
       "      <td>Baby Care</td>\n",
       "      <td>[key, features, eurospa, cotton, terry, face, ...</td>\n",
       "      <td>[key, featur, eurospa, cotton, terri, face, to...</td>\n",
       "      <td>[key, feature, eurospa, cotton, terry, face, t...</td>\n",
       "    </tr>\n",
       "  </tbody>\n",
       "</table>\n",
       "</div>"
      ],
      "text/plain": [
       "                            uniq_id            crawl_timestamp  \\\n",
       "0  55b85ea15a1536d46b7190ad6fff8ce7  2016-04-30 03:22:56 +0000   \n",
       "1  7b72c92c2f6c40268628ec5f14c6d590  2016-04-30 03:22:56 +0000   \n",
       "2  64d5d4a258243731dc7bbb1eef49ad74  2016-04-30 03:22:56 +0000   \n",
       "\n",
       "                                         product_url  \\\n",
       "0  http://www.flipkart.com/elegance-polyester-mul...   \n",
       "1  http://www.flipkart.com/sathiyas-cotton-bath-t...   \n",
       "2  http://www.flipkart.com/eurospa-cotton-terry-f...   \n",
       "\n",
       "                                        product_name  \\\n",
       "0  Elegance Polyester Multicolor Abstract Eyelet ...   \n",
       "1                         Sathiyas Cotton Bath Towel   \n",
       "2                Eurospa Cotton Terry Face Towel Set   \n",
       "\n",
       "                               product_category_tree               pid  \\\n",
       "0  [\"Home Furnishing >> Curtains & Accessories >>...  CRNEG7BKMFFYHQ8Z   \n",
       "1  [\"Baby Care >> Baby Bath & Skin >> Baby Bath T...  BTWEGFZHGBXPHZUH   \n",
       "2  [\"Baby Care >> Baby Bath & Skin >> Baby Bath T...  BTWEG6SHXTDB2A2Y   \n",
       "\n",
       "   retail_price  discounted_price                                 image  \\\n",
       "0        1899.0             899.0  55b85ea15a1536d46b7190ad6fff8ce7.jpg   \n",
       "1         600.0             449.0  7b72c92c2f6c40268628ec5f14c6d590.jpg   \n",
       "2           NaN               NaN  64d5d4a258243731dc7bbb1eef49ad74.jpg   \n",
       "\n",
       "   is_FK_Advantage_product                                        description  \\\n",
       "0                    False  Key Features of Elegance Polyester Multicolor ...   \n",
       "1                    False  Specifications of Sathiyas Cotton Bath Towel (...   \n",
       "2                    False  Key Features of Eurospa Cotton Terry Face Towe...   \n",
       "\n",
       "        product_rating       overall_rating     brand  \\\n",
       "0  No rating available  No rating available  Elegance   \n",
       "1  No rating available  No rating available  Sathiyas   \n",
       "2  No rating available  No rating available   Eurospa   \n",
       "\n",
       "                              product_specifications main_product_category  \\\n",
       "0  {\"product_specification\"=>[{\"key\"=>\"Brand\", \"v...       Home Furnishing   \n",
       "1  {\"product_specification\"=>[{\"key\"=>\"Machine Wa...             Baby Care   \n",
       "2  {\"product_specification\"=>[{\"key\"=>\"Material\",...             Baby Care   \n",
       "\n",
       "                               processed_description  \\\n",
       "0  [key, features, elegance, polyester, multicolo...   \n",
       "1  [specifications, sathiyas, cotton, bath, towel...   \n",
       "2  [key, features, eurospa, cotton, terry, face, ...   \n",
       "\n",
       "                                 stemmed_description  \\\n",
       "0  [key, featur, eleg, polyest, multicolor, abstr...   \n",
       "1  [specif, sathiya, cotton, bath, towel, bath, b...   \n",
       "2  [key, featur, eurospa, cotton, terri, face, to...   \n",
       "\n",
       "                              lemmatized_description  \n",
       "0  [key, feature, elegance, polyester, multicolor...  \n",
       "1  [specification, sathiyas, cotton, bath, towel,...  \n",
       "2  [key, feature, eurospa, cotton, terry, face, t...  "
      ]
     },
     "execution_count": 29,
     "metadata": {},
     "output_type": "execute_result"
    }
   ],
   "source": [
    "df.head(3)"
   ]
  },
  {
   "cell_type": "code",
   "execution_count": 30,
   "id": "11762063",
   "metadata": {
    "execution": {
     "iopub.execute_input": "2024-08-29T23:02:38.034573Z",
     "iopub.status.busy": "2024-08-29T23:02:38.034097Z",
     "iopub.status.idle": "2024-08-29T23:02:38.075701Z",
     "shell.execute_reply": "2024-08-29T23:02:38.074430Z"
    },
    "papermill": {
     "duration": 0.070231,
     "end_time": "2024-08-29T23:02:38.078391",
     "exception": false,
     "start_time": "2024-08-29T23:02:38.008160",
     "status": "completed"
    },
    "tags": []
   },
   "outputs": [
    {
     "data": {
      "text/html": [
       "<div>\n",
       "<style scoped>\n",
       "    .dataframe tbody tr th:only-of-type {\n",
       "        vertical-align: middle;\n",
       "    }\n",
       "\n",
       "    .dataframe tbody tr th {\n",
       "        vertical-align: top;\n",
       "    }\n",
       "\n",
       "    .dataframe thead th {\n",
       "        text-align: right;\n",
       "    }\n",
       "</style>\n",
       "<table border=\"1\" class=\"dataframe\">\n",
       "  <thead>\n",
       "    <tr style=\"text-align: right;\">\n",
       "      <th></th>\n",
       "      <th>main_product_category</th>\n",
       "      <th>processed_description</th>\n",
       "      <th>stemmed_description</th>\n",
       "      <th>lemmatized_description</th>\n",
       "    </tr>\n",
       "  </thead>\n",
       "  <tbody>\n",
       "    <tr>\n",
       "      <th>0</th>\n",
       "      <td>Home Furnishing</td>\n",
       "      <td>[key, features, elegance, polyester, multicolo...</td>\n",
       "      <td>[key, featur, eleg, polyest, multicolor, abstr...</td>\n",
       "      <td>[key, feature, elegance, polyester, multicolor...</td>\n",
       "    </tr>\n",
       "    <tr>\n",
       "      <th>1</th>\n",
       "      <td>Baby Care</td>\n",
       "      <td>[specifications, sathiyas, cotton, bath, towel...</td>\n",
       "      <td>[specif, sathiya, cotton, bath, towel, bath, b...</td>\n",
       "      <td>[specification, sathiyas, cotton, bath, towel,...</td>\n",
       "    </tr>\n",
       "    <tr>\n",
       "      <th>2</th>\n",
       "      <td>Baby Care</td>\n",
       "      <td>[key, features, eurospa, cotton, terry, face, ...</td>\n",
       "      <td>[key, featur, eurospa, cotton, terri, face, to...</td>\n",
       "      <td>[key, feature, eurospa, cotton, terry, face, t...</td>\n",
       "    </tr>\n",
       "    <tr>\n",
       "      <th>3</th>\n",
       "      <td>Home Furnishing</td>\n",
       "      <td>[key, features, santosh, royal, fashion, cotto...</td>\n",
       "      <td>[key, featur, santosh, royal, fashion, cotton,...</td>\n",
       "      <td>[key, feature, santosh, royal, fashion, cotton...</td>\n",
       "    </tr>\n",
       "    <tr>\n",
       "      <th>4</th>\n",
       "      <td>Home Furnishing</td>\n",
       "      <td>[key, features, jaipur, print, cotton, floral,...</td>\n",
       "      <td>[key, featur, jaipur, print, cotton, floral, k...</td>\n",
       "      <td>[key, feature, jaipur, print, cotton, floral, ...</td>\n",
       "    </tr>\n",
       "  </tbody>\n",
       "</table>\n",
       "</div>"
      ],
      "text/plain": [
       "  main_product_category                              processed_description  \\\n",
       "0       Home Furnishing  [key, features, elegance, polyester, multicolo...   \n",
       "1             Baby Care  [specifications, sathiyas, cotton, bath, towel...   \n",
       "2             Baby Care  [key, features, eurospa, cotton, terry, face, ...   \n",
       "3       Home Furnishing  [key, features, santosh, royal, fashion, cotto...   \n",
       "4       Home Furnishing  [key, features, jaipur, print, cotton, floral,...   \n",
       "\n",
       "                                 stemmed_description  \\\n",
       "0  [key, featur, eleg, polyest, multicolor, abstr...   \n",
       "1  [specif, sathiya, cotton, bath, towel, bath, b...   \n",
       "2  [key, featur, eurospa, cotton, terri, face, to...   \n",
       "3  [key, featur, santosh, royal, fashion, cotton,...   \n",
       "4  [key, featur, jaipur, print, cotton, floral, k...   \n",
       "\n",
       "                              lemmatized_description  \n",
       "0  [key, feature, elegance, polyester, multicolor...  \n",
       "1  [specification, sathiyas, cotton, bath, towel,...  \n",
       "2  [key, feature, eurospa, cotton, terry, face, t...  \n",
       "3  [key, feature, santosh, royal, fashion, cotton...  \n",
       "4  [key, feature, jaipur, print, cotton, floral, ...  "
      ]
     },
     "execution_count": 30,
     "metadata": {},
     "output_type": "execute_result"
    }
   ],
   "source": [
    "df1 = df[[\"main_product_category\", \"processed_description\",\"stemmed_description\", \"lemmatized_description\"]].copy()\n",
    "\n",
    "df1.head()"
   ]
  },
  {
   "cell_type": "markdown",
   "id": "e20f95de",
   "metadata": {
    "papermill": {
     "duration": 0.023476,
     "end_time": "2024-08-29T23:02:38.125765",
     "exception": false,
     "start_time": "2024-08-29T23:02:38.102289",
     "status": "completed"
    },
    "tags": []
   },
   "source": [
    "## Bag-of-words"
   ]
  },
  {
   "cell_type": "code",
   "execution_count": 31,
   "id": "158e9dfd",
   "metadata": {
    "execution": {
     "iopub.execute_input": "2024-08-29T23:02:38.177929Z",
     "iopub.status.busy": "2024-08-29T23:02:38.177446Z",
     "iopub.status.idle": "2024-08-29T23:02:38.183219Z",
     "shell.execute_reply": "2024-08-29T23:02:38.182015Z"
    },
    "papermill": {
     "duration": 0.035862,
     "end_time": "2024-08-29T23:02:38.185921",
     "exception": false,
     "start_time": "2024-08-29T23:02:38.150059",
     "status": "completed"
    },
    "tags": []
   },
   "outputs": [],
   "source": [
    "from sklearn.feature_extraction.text import CountVectorizer, TfidfVectorizer"
   ]
  },
  {
   "cell_type": "code",
   "execution_count": 32,
   "id": "578e380d",
   "metadata": {
    "execution": {
     "iopub.execute_input": "2024-08-29T23:02:38.236928Z",
     "iopub.status.busy": "2024-08-29T23:02:38.236426Z",
     "iopub.status.idle": "2024-08-29T23:02:38.244095Z",
     "shell.execute_reply": "2024-08-29T23:02:38.242753Z"
    },
    "papermill": {
     "duration": 0.036577,
     "end_time": "2024-08-29T23:02:38.246967",
     "exception": false,
     "start_time": "2024-08-29T23:02:38.210390",
     "status": "completed"
    },
    "tags": []
   },
   "outputs": [],
   "source": [
    "def get_bag_of_words(description_col: str,\n",
    "                     dataframe,\n",
    "                     return_toarray=False\n",
    "                    ):\n",
    "    count_vectorizer = CountVectorizer()\n",
    "    \n",
    "    bag_of_words = count_vectorizer.fit_transform(dataframe[description_col])\n",
    "    \n",
    "    if return_toarray:\n",
    "        return bag_of_words.toarray()\n",
    "    else:\n",
    "        return bag_of_words"
   ]
  },
  {
   "cell_type": "code",
   "execution_count": 33,
   "id": "f69b70fb",
   "metadata": {
    "execution": {
     "iopub.execute_input": "2024-08-29T23:02:38.296621Z",
     "iopub.status.busy": "2024-08-29T23:02:38.296205Z",
     "iopub.status.idle": "2024-08-29T23:02:38.302277Z",
     "shell.execute_reply": "2024-08-29T23:02:38.300627Z"
    },
    "papermill": {
     "duration": 0.034249,
     "end_time": "2024-08-29T23:02:38.305115",
     "exception": false,
     "start_time": "2024-08-29T23:02:38.270866",
     "status": "completed"
    },
    "tags": []
   },
   "outputs": [],
   "source": [
    "description_columns = [\n",
    "    \"processed_description\",\n",
    "    \"stemmed_description\",\n",
    "    \"lemmatized_description\"\n",
    "]"
   ]
  },
  {
   "cell_type": "code",
   "execution_count": 34,
   "id": "fec069e6",
   "metadata": {
    "execution": {
     "iopub.execute_input": "2024-08-29T23:02:38.355915Z",
     "iopub.status.busy": "2024-08-29T23:02:38.355404Z",
     "iopub.status.idle": "2024-08-29T23:02:38.371871Z",
     "shell.execute_reply": "2024-08-29T23:02:38.370534Z"
    },
    "papermill": {
     "duration": 0.044764,
     "end_time": "2024-08-29T23:02:38.374574",
     "exception": false,
     "start_time": "2024-08-29T23:02:38.329810",
     "status": "completed"
    },
    "tags": []
   },
   "outputs": [],
   "source": [
    "for desc_col in description_columns:\n",
    "    df1[desc_col] = df1[desc_col].apply(lambda x: ' '.join(x))"
   ]
  },
  {
   "cell_type": "code",
   "execution_count": 35,
   "id": "954e749e",
   "metadata": {
    "execution": {
     "iopub.execute_input": "2024-08-29T23:02:38.425069Z",
     "iopub.status.busy": "2024-08-29T23:02:38.424568Z",
     "iopub.status.idle": "2024-08-29T23:02:38.444183Z",
     "shell.execute_reply": "2024-08-29T23:02:38.442802Z"
    },
    "papermill": {
     "duration": 0.047947,
     "end_time": "2024-08-29T23:02:38.447116",
     "exception": false,
     "start_time": "2024-08-29T23:02:38.399169",
     "status": "completed"
    },
    "tags": []
   },
   "outputs": [
    {
     "data": {
      "text/html": [
       "<div>\n",
       "<style scoped>\n",
       "    .dataframe tbody tr th:only-of-type {\n",
       "        vertical-align: middle;\n",
       "    }\n",
       "\n",
       "    .dataframe tbody tr th {\n",
       "        vertical-align: top;\n",
       "    }\n",
       "\n",
       "    .dataframe thead th {\n",
       "        text-align: right;\n",
       "    }\n",
       "</style>\n",
       "<table border=\"1\" class=\"dataframe\">\n",
       "  <thead>\n",
       "    <tr style=\"text-align: right;\">\n",
       "      <th></th>\n",
       "      <th>main_product_category</th>\n",
       "      <th>processed_description</th>\n",
       "      <th>stemmed_description</th>\n",
       "      <th>lemmatized_description</th>\n",
       "    </tr>\n",
       "  </thead>\n",
       "  <tbody>\n",
       "    <tr>\n",
       "      <th>0</th>\n",
       "      <td>Home Furnishing</td>\n",
       "      <td>key features elegance polyester multicolor abs...</td>\n",
       "      <td>key featur eleg polyest multicolor abstract ey...</td>\n",
       "      <td>key feature elegance polyester multicolor abst...</td>\n",
       "    </tr>\n",
       "    <tr>\n",
       "      <th>1</th>\n",
       "      <td>Baby Care</td>\n",
       "      <td>specifications sathiyas cotton bath towel bath...</td>\n",
       "      <td>specif sathiya cotton bath towel bath bath tow...</td>\n",
       "      <td>specification sathiyas cotton bath towel bath ...</td>\n",
       "    </tr>\n",
       "    <tr>\n",
       "      <th>2</th>\n",
       "      <td>Baby Care</td>\n",
       "      <td>key features eurospa cotton terry face towel s...</td>\n",
       "      <td>key featur eurospa cotton terri face towel set...</td>\n",
       "      <td>key feature eurospa cotton terry face towel se...</td>\n",
       "    </tr>\n",
       "    <tr>\n",
       "      <th>3</th>\n",
       "      <td>Home Furnishing</td>\n",
       "      <td>key features santosh royal fashion cotton prin...</td>\n",
       "      <td>key featur santosh royal fashion cotton print ...</td>\n",
       "      <td>key feature santosh royal fashion cotton print...</td>\n",
       "    </tr>\n",
       "    <tr>\n",
       "      <th>4</th>\n",
       "      <td>Home Furnishing</td>\n",
       "      <td>key features jaipur print cotton floral king s...</td>\n",
       "      <td>key featur jaipur print cotton floral king siz...</td>\n",
       "      <td>key feature jaipur print cotton floral king si...</td>\n",
       "    </tr>\n",
       "    <tr>\n",
       "      <th>...</th>\n",
       "      <td>...</td>\n",
       "      <td>...</td>\n",
       "      <td>...</td>\n",
       "      <td>...</td>\n",
       "    </tr>\n",
       "    <tr>\n",
       "      <th>1045</th>\n",
       "      <td>Baby Care</td>\n",
       "      <td>oren empower extra large self adhesive sticker...</td>\n",
       "      <td>oren empow extra larg self adhes sticker stick...</td>\n",
       "      <td>oren empower extra large self adhesive sticker...</td>\n",
       "    </tr>\n",
       "    <tr>\n",
       "      <th>1046</th>\n",
       "      <td>Baby Care</td>\n",
       "      <td>wallmantra large vinyl sticker sticker home ex...</td>\n",
       "      <td>wallmantra larg vinyl sticker sticker home exc...</td>\n",
       "      <td>wallmantra large vinyl sticker sticker home ex...</td>\n",
       "    </tr>\n",
       "    <tr>\n",
       "      <th>1047</th>\n",
       "      <td>Baby Care</td>\n",
       "      <td>buy uberlyfe extra large pigmented polyvinyl f...</td>\n",
       "      <td>buy uberlyf extra larg pigment polyvinyl film ...</td>\n",
       "      <td>buy uberlyfe extra large pigmented polyvinyl f...</td>\n",
       "    </tr>\n",
       "    <tr>\n",
       "      <th>1048</th>\n",
       "      <td>Baby Care</td>\n",
       "      <td>buy wallmantra medium vinyl sticker sticker wa...</td>\n",
       "      <td>buy wallmantra medium vinyl sticker sticker wa...</td>\n",
       "      <td>buy wallmantra medium vinyl sticker sticker wa...</td>\n",
       "    </tr>\n",
       "    <tr>\n",
       "      <th>1049</th>\n",
       "      <td>Baby Care</td>\n",
       "      <td>buy uberlyfe large vinyl sticker uberlyfe larg...</td>\n",
       "      <td>buy uberlyf larg vinyl sticker uberlyf larg vi...</td>\n",
       "      <td>buy uberlyfe large vinyl sticker uberlyfe larg...</td>\n",
       "    </tr>\n",
       "  </tbody>\n",
       "</table>\n",
       "<p>1050 rows × 4 columns</p>\n",
       "</div>"
      ],
      "text/plain": [
       "     main_product_category                              processed_description  \\\n",
       "0          Home Furnishing  key features elegance polyester multicolor abs...   \n",
       "1                Baby Care  specifications sathiyas cotton bath towel bath...   \n",
       "2                Baby Care  key features eurospa cotton terry face towel s...   \n",
       "3          Home Furnishing  key features santosh royal fashion cotton prin...   \n",
       "4          Home Furnishing  key features jaipur print cotton floral king s...   \n",
       "...                    ...                                                ...   \n",
       "1045             Baby Care  oren empower extra large self adhesive sticker...   \n",
       "1046             Baby Care  wallmantra large vinyl sticker sticker home ex...   \n",
       "1047             Baby Care  buy uberlyfe extra large pigmented polyvinyl f...   \n",
       "1048             Baby Care  buy wallmantra medium vinyl sticker sticker wa...   \n",
       "1049             Baby Care  buy uberlyfe large vinyl sticker uberlyfe larg...   \n",
       "\n",
       "                                    stemmed_description  \\\n",
       "0     key featur eleg polyest multicolor abstract ey...   \n",
       "1     specif sathiya cotton bath towel bath bath tow...   \n",
       "2     key featur eurospa cotton terri face towel set...   \n",
       "3     key featur santosh royal fashion cotton print ...   \n",
       "4     key featur jaipur print cotton floral king siz...   \n",
       "...                                                 ...   \n",
       "1045  oren empow extra larg self adhes sticker stick...   \n",
       "1046  wallmantra larg vinyl sticker sticker home exc...   \n",
       "1047  buy uberlyf extra larg pigment polyvinyl film ...   \n",
       "1048  buy wallmantra medium vinyl sticker sticker wa...   \n",
       "1049  buy uberlyf larg vinyl sticker uberlyf larg vi...   \n",
       "\n",
       "                                 lemmatized_description  \n",
       "0     key feature elegance polyester multicolor abst...  \n",
       "1     specification sathiyas cotton bath towel bath ...  \n",
       "2     key feature eurospa cotton terry face towel se...  \n",
       "3     key feature santosh royal fashion cotton print...  \n",
       "4     key feature jaipur print cotton floral king si...  \n",
       "...                                                 ...  \n",
       "1045  oren empower extra large self adhesive sticker...  \n",
       "1046  wallmantra large vinyl sticker sticker home ex...  \n",
       "1047  buy uberlyfe extra large pigmented polyvinyl f...  \n",
       "1048  buy wallmantra medium vinyl sticker sticker wa...  \n",
       "1049  buy uberlyfe large vinyl sticker uberlyfe larg...  \n",
       "\n",
       "[1050 rows x 4 columns]"
      ]
     },
     "execution_count": 35,
     "metadata": {},
     "output_type": "execute_result"
    }
   ],
   "source": [
    "df1"
   ]
  },
  {
   "cell_type": "code",
   "execution_count": 36,
   "id": "3107e482",
   "metadata": {
    "execution": {
     "iopub.execute_input": "2024-08-29T23:02:38.498258Z",
     "iopub.status.busy": "2024-08-29T23:02:38.497789Z",
     "iopub.status.idle": "2024-08-29T23:02:38.588025Z",
     "shell.execute_reply": "2024-08-29T23:02:38.586825Z"
    },
    "papermill": {
     "duration": 0.119092,
     "end_time": "2024-08-29T23:02:38.590645",
     "exception": false,
     "start_time": "2024-08-29T23:02:38.471553",
     "status": "completed"
    },
    "tags": []
   },
   "outputs": [
    {
     "data": {
      "text/plain": [
       "<Compressed Sparse Row sparse matrix of dtype 'int64'\n",
       "\twith 29798 stored elements and shape (1050, 4382)>"
      ]
     },
     "execution_count": 36,
     "metadata": {},
     "output_type": "execute_result"
    }
   ],
   "source": [
    "# get BOW representation\n",
    "\n",
    "# 1 no stemming or lemmatization\n",
    "bow_no_stem_no_lem = get_bag_of_words(\"processed_description\", df1)\n",
    "\n",
    "bow_no_stem_no_lem"
   ]
  },
  {
   "cell_type": "code",
   "execution_count": 37,
   "id": "af4b1135",
   "metadata": {
    "execution": {
     "iopub.execute_input": "2024-08-29T23:02:38.642855Z",
     "iopub.status.busy": "2024-08-29T23:02:38.641676Z",
     "iopub.status.idle": "2024-08-29T23:02:38.675636Z",
     "shell.execute_reply": "2024-08-29T23:02:38.674372Z"
    },
    "papermill": {
     "duration": 0.062959,
     "end_time": "2024-08-29T23:02:38.678664",
     "exception": false,
     "start_time": "2024-08-29T23:02:38.615705",
     "status": "completed"
    },
    "tags": []
   },
   "outputs": [
    {
     "data": {
      "text/plain": [
       "array([[0, 0, 0, ..., 0, 0, 0],\n",
       "       [0, 0, 0, ..., 0, 0, 0],\n",
       "       [0, 0, 0, ..., 0, 0, 0],\n",
       "       ...,\n",
       "       [0, 0, 0, ..., 0, 0, 0],\n",
       "       [0, 0, 0, ..., 0, 0, 0],\n",
       "       [0, 0, 0, ..., 0, 0, 0]])"
      ]
     },
     "execution_count": 37,
     "metadata": {},
     "output_type": "execute_result"
    }
   ],
   "source": [
    "# forgot that it generates a sparse matrix\n",
    "# => convert to array to make dataframe of results\n",
    "bow_no_stem_no_lem.toarray()"
   ]
  },
  {
   "cell_type": "code",
   "execution_count": 38,
   "id": "2358a857",
   "metadata": {
    "execution": {
     "iopub.execute_input": "2024-08-29T23:02:38.731633Z",
     "iopub.status.busy": "2024-08-29T23:02:38.730709Z",
     "iopub.status.idle": "2024-08-29T23:02:38.830987Z",
     "shell.execute_reply": "2024-08-29T23:02:38.829708Z"
    },
    "papermill": {
     "duration": 0.130141,
     "end_time": "2024-08-29T23:02:38.833803",
     "exception": false,
     "start_time": "2024-08-29T23:02:38.703662",
     "status": "completed"
    },
    "tags": []
   },
   "outputs": [
    {
     "data": {
      "text/plain": [
       "array([[0, 0, 0, ..., 0, 0, 0],\n",
       "       [0, 0, 0, ..., 0, 0, 0],\n",
       "       [0, 0, 0, ..., 0, 0, 0],\n",
       "       ...,\n",
       "       [0, 0, 0, ..., 0, 0, 0],\n",
       "       [0, 0, 0, ..., 0, 0, 0],\n",
       "       [0, 0, 0, ..., 0, 0, 0]])"
      ]
     },
     "execution_count": 38,
     "metadata": {},
     "output_type": "execute_result"
    }
   ],
   "source": [
    "bow_stem_no_lem = get_bag_of_words(\"stemmed_description\", df1, return_toarray=True)\n",
    "\n",
    "bow_stem_no_lem"
   ]
  },
  {
   "cell_type": "markdown",
   "id": "2cc8d3c9",
   "metadata": {
    "papermill": {
     "duration": 0.024495,
     "end_time": "2024-08-29T23:02:38.883578",
     "exception": false,
     "start_time": "2024-08-29T23:02:38.859083",
     "status": "completed"
    },
    "tags": []
   },
   "source": [
    "# Scaling up and standardizing with functions\n",
    "\n",
    "ok all seems to be working, data types are clear as well.\n",
    "\n",
    "The idea now is:\n",
    "\n",
    "- for each of the various feature-creations (i.e. BOW, TFIDF, etc) ...\n",
    "- get the dimension reduction via t-SNE to 2 dims and see where the **real** categories end up\n",
    "- then K-means on the t-SNE reduced data to see where the K-means (7) clusters are\n",
    "- evaluate with adjusted Rand index\n",
    "\n",
    "**update:**\n",
    "\n",
    "Also can evaluate with P/R/F1 and confusion matrix"
   ]
  },
  {
   "cell_type": "code",
   "execution_count": 39,
   "id": "14f3d56d",
   "metadata": {
    "execution": {
     "iopub.execute_input": "2024-08-29T23:02:38.936872Z",
     "iopub.status.busy": "2024-08-29T23:02:38.936363Z",
     "iopub.status.idle": "2024-08-29T23:02:39.072282Z",
     "shell.execute_reply": "2024-08-29T23:02:39.071111Z"
    },
    "papermill": {
     "duration": 0.16596,
     "end_time": "2024-08-29T23:02:39.075173",
     "exception": false,
     "start_time": "2024-08-29T23:02:38.909213",
     "status": "completed"
    },
    "tags": []
   },
   "outputs": [],
   "source": [
    "from sklearn.manifold import TSNE"
   ]
  },
  {
   "cell_type": "code",
   "execution_count": 40,
   "id": "d4e46945",
   "metadata": {
    "execution": {
     "iopub.execute_input": "2024-08-29T23:02:39.127388Z",
     "iopub.status.busy": "2024-08-29T23:02:39.126943Z",
     "iopub.status.idle": "2024-08-29T23:02:39.132319Z",
     "shell.execute_reply": "2024-08-29T23:02:39.130947Z"
    },
    "papermill": {
     "duration": 0.033979,
     "end_time": "2024-08-29T23:02:39.134850",
     "exception": false,
     "start_time": "2024-08-29T23:02:39.100871",
     "status": "completed"
    },
    "tags": []
   },
   "outputs": [],
   "source": [
    "ALL_EMBEDDING_METHODS = [\n",
    "    \"bow\",\n",
    "    \"tfidf\",\n",
    "]"
   ]
  },
  {
   "cell_type": "code",
   "execution_count": 41,
   "id": "0f726d87",
   "metadata": {
    "execution": {
     "iopub.execute_input": "2024-08-29T23:02:39.188232Z",
     "iopub.status.busy": "2024-08-29T23:02:39.187704Z",
     "iopub.status.idle": "2024-08-29T23:02:39.195921Z",
     "shell.execute_reply": "2024-08-29T23:02:39.194621Z"
    },
    "papermill": {
     "duration": 0.036965,
     "end_time": "2024-08-29T23:02:39.198579",
     "exception": false,
     "start_time": "2024-08-29T23:02:39.161614",
     "status": "completed"
    },
    "tags": []
   },
   "outputs": [],
   "source": [
    "def get_tsne_from_embedding_method(embedding_method: str,\n",
    "                                   description_col: str,\n",
    "                                   dataframe\n",
    "                                  ):\n",
    "    assert embedding_method in ALL_EMBEDDING_METHODS, f\"{embedding_method} not supported ! TODO: add it\"\n",
    "    \n",
    "    match embedding_method:\n",
    "        case \"bow\":\n",
    "            model = CountVectorizer()\n",
    "        case \"tfidf\":\n",
    "            model = TfidfVectorizer()\n",
    "    \n",
    "    # get the embeddings for the current studied \"description\" text data\n",
    "    embeddings = model.fit_transform(dataframe[description_col])\n",
    "    \n",
    "    # convert to array so that can init TSNE with PCA\n",
    "    embeddings = embeddings.toarray()\n",
    "    \n",
    "    # get the TSNE (checked sklearn docs, defaults are n=2, maybe change others if needed)\n",
    "    tsne = TSNE(random_state=RANDOM_SEED)\n",
    "    \n",
    "    return tsne.fit_transform(embeddings) \n",
    "    "
   ]
  },
  {
   "cell_type": "code",
   "execution_count": 42,
   "id": "1eb3cd92",
   "metadata": {
    "execution": {
     "iopub.execute_input": "2024-08-29T23:02:39.251597Z",
     "iopub.status.busy": "2024-08-29T23:02:39.251126Z",
     "iopub.status.idle": "2024-08-29T23:02:47.717664Z",
     "shell.execute_reply": "2024-08-29T23:02:47.716654Z"
    },
    "papermill": {
     "duration": 8.496788,
     "end_time": "2024-08-29T23:02:47.720612",
     "exception": false,
     "start_time": "2024-08-29T23:02:39.223824",
     "status": "completed"
    },
    "tags": []
   },
   "outputs": [],
   "source": [
    "test_tsne = get_tsne_from_embedding_method(\"bow\", \"processed_description\", df1)"
   ]
  },
  {
   "cell_type": "code",
   "execution_count": 43,
   "id": "d15ea68e",
   "metadata": {
    "execution": {
     "iopub.execute_input": "2024-08-29T23:02:47.773792Z",
     "iopub.status.busy": "2024-08-29T23:02:47.773260Z",
     "iopub.status.idle": "2024-08-29T23:02:47.783150Z",
     "shell.execute_reply": "2024-08-29T23:02:47.781753Z"
    },
    "papermill": {
     "duration": 0.039265,
     "end_time": "2024-08-29T23:02:47.786222",
     "exception": false,
     "start_time": "2024-08-29T23:02:47.746957",
     "status": "completed"
    },
    "tags": []
   },
   "outputs": [
    {
     "data": {
      "text/plain": [
       "(array([[ 22.623926 ,   4.381043 ],\n",
       "        [ 16.413849 , -10.416906 ],\n",
       "        [ 16.933266 ,  -8.770912 ],\n",
       "        ...,\n",
       "        [ -7.1418757,  12.9213   ],\n",
       "        [ -4.1861353,  13.282247 ],\n",
       "        [ -6.2959604,  12.653762 ]], dtype=float32),\n",
       " numpy.ndarray,\n",
       " (1050, 2))"
      ]
     },
     "execution_count": 43,
     "metadata": {},
     "output_type": "execute_result"
    }
   ],
   "source": [
    "test_tsne, type(test_tsne), test_tsne.shape"
   ]
  },
  {
   "cell_type": "code",
   "execution_count": 44,
   "id": "a62ab871",
   "metadata": {
    "execution": {
     "iopub.execute_input": "2024-08-29T23:02:47.839335Z",
     "iopub.status.busy": "2024-08-29T23:02:47.838866Z",
     "iopub.status.idle": "2024-08-29T23:02:47.902206Z",
     "shell.execute_reply": "2024-08-29T23:02:47.900841Z"
    },
    "papermill": {
     "duration": 0.09383,
     "end_time": "2024-08-29T23:02:47.905163",
     "exception": false,
     "start_time": "2024-08-29T23:02:47.811333",
     "status": "completed"
    },
    "tags": []
   },
   "outputs": [],
   "source": [
    "from sklearn.cluster import KMeans"
   ]
  },
  {
   "cell_type": "code",
   "execution_count": 45,
   "id": "5f30854c",
   "metadata": {
    "execution": {
     "iopub.execute_input": "2024-08-29T23:02:47.956906Z",
     "iopub.status.busy": "2024-08-29T23:02:47.956442Z",
     "iopub.status.idle": "2024-08-29T23:02:47.963272Z",
     "shell.execute_reply": "2024-08-29T23:02:47.961832Z"
    },
    "papermill": {
     "duration": 0.035955,
     "end_time": "2024-08-29T23:02:47.966003",
     "exception": false,
     "start_time": "2024-08-29T23:02:47.930048",
     "status": "completed"
    },
    "tags": []
   },
   "outputs": [],
   "source": [
    "# function for the kmeans\n",
    "def get_kmeans_clusters_from_tsne_data(tsne_features,\n",
    "                                       number_of_clusters=7\n",
    "                                      ):\n",
    "    kmeans_model = KMeans(n_clusters=number_of_clusters, random_state=RANDOM_SEED)\n",
    "    \n",
    "    kmeans_clusters = kmeans_model.fit_predict(tsne_features)\n",
    "    \n",
    "    return kmeans_clusters   "
   ]
  },
  {
   "cell_type": "code",
   "execution_count": 46,
   "id": "87556767",
   "metadata": {
    "execution": {
     "iopub.execute_input": "2024-08-29T23:02:48.020766Z",
     "iopub.status.busy": "2024-08-29T23:02:48.020248Z",
     "iopub.status.idle": "2024-08-29T23:02:48.099845Z",
     "shell.execute_reply": "2024-08-29T23:02:48.098619Z"
    },
    "papermill": {
     "duration": 0.110798,
     "end_time": "2024-08-29T23:02:48.103050",
     "exception": false,
     "start_time": "2024-08-29T23:02:47.992252",
     "status": "completed"
    },
    "tags": []
   },
   "outputs": [
    {
     "name": "stderr",
     "output_type": "stream",
     "text": [
      "/opt/conda/lib/python3.10/site-packages/sklearn/cluster/_kmeans.py:870: FutureWarning: The default value of `n_init` will change from 10 to 'auto' in 1.4. Set the value of `n_init` explicitly to suppress the warning\n",
      "  warnings.warn(\n"
     ]
    },
    {
     "data": {
      "text/plain": [
       "(array([4, 0, 0, ..., 6, 6, 6], dtype=int32), numpy.ndarray, (1050,))"
      ]
     },
     "execution_count": 46,
     "metadata": {},
     "output_type": "execute_result"
    }
   ],
   "source": [
    "test_clusters = get_kmeans_clusters_from_tsne_data(test_tsne)\n",
    "\n",
    "test_clusters, type(test_clusters), test_clusters.shape"
   ]
  },
  {
   "cell_type": "code",
   "execution_count": 47,
   "id": "f3d17128",
   "metadata": {
    "collapsed": true,
    "execution": {
     "iopub.execute_input": "2024-08-29T23:02:48.158546Z",
     "iopub.status.busy": "2024-08-29T23:02:48.158096Z",
     "iopub.status.idle": "2024-08-29T23:02:48.168881Z",
     "shell.execute_reply": "2024-08-29T23:02:48.167452Z"
    },
    "jupyter": {
     "outputs_hidden": true
    },
    "papermill": {
     "duration": 0.041288,
     "end_time": "2024-08-29T23:02:48.171761",
     "exception": false,
     "start_time": "2024-08-29T23:02:48.130473",
     "status": "completed"
    },
    "tags": []
   },
   "outputs": [
    {
     "data": {
      "text/plain": [
       "0       key features elegance polyester multicolor abs...\n",
       "1       specifications sathiyas cotton bath towel bath...\n",
       "2       key features eurospa cotton terry face towel s...\n",
       "3       key features santosh royal fashion cotton prin...\n",
       "4       key features jaipur print cotton floral king s...\n",
       "                              ...                        \n",
       "1045    oren empower extra large self adhesive sticker...\n",
       "1046    wallmantra large vinyl sticker sticker home ex...\n",
       "1047    buy uberlyfe extra large pigmented polyvinyl f...\n",
       "1048    buy wallmantra medium vinyl sticker sticker wa...\n",
       "1049    buy uberlyfe large vinyl sticker uberlyfe larg...\n",
       "Name: processed_description, Length: 1050, dtype: object"
      ]
     },
     "execution_count": 47,
     "metadata": {},
     "output_type": "execute_result"
    }
   ],
   "source": [
    "df1[\"processed_description\"]"
   ]
  },
  {
   "cell_type": "code",
   "execution_count": 48,
   "id": "ecf53e2a",
   "metadata": {
    "execution": {
     "iopub.execute_input": "2024-08-29T23:02:48.226616Z",
     "iopub.status.busy": "2024-08-29T23:02:48.226186Z",
     "iopub.status.idle": "2024-08-29T23:02:48.246468Z",
     "shell.execute_reply": "2024-08-29T23:02:48.245227Z"
    },
    "papermill": {
     "duration": 0.050216,
     "end_time": "2024-08-29T23:02:48.249227",
     "exception": false,
     "start_time": "2024-08-29T23:02:48.199011",
     "status": "completed"
    },
    "tags": []
   },
   "outputs": [
    {
     "data": {
      "text/html": [
       "<div>\n",
       "<style scoped>\n",
       "    .dataframe tbody tr th:only-of-type {\n",
       "        vertical-align: middle;\n",
       "    }\n",
       "\n",
       "    .dataframe tbody tr th {\n",
       "        vertical-align: top;\n",
       "    }\n",
       "\n",
       "    .dataframe thead th {\n",
       "        text-align: right;\n",
       "    }\n",
       "</style>\n",
       "<table border=\"1\" class=\"dataframe\">\n",
       "  <thead>\n",
       "    <tr style=\"text-align: right;\">\n",
       "      <th></th>\n",
       "      <th>main_product_category</th>\n",
       "      <th>processed_description</th>\n",
       "      <th>stemmed_description</th>\n",
       "      <th>lemmatized_description</th>\n",
       "      <th>category_id</th>\n",
       "    </tr>\n",
       "  </thead>\n",
       "  <tbody>\n",
       "    <tr>\n",
       "      <th>0</th>\n",
       "      <td>Home Furnishing</td>\n",
       "      <td>key features elegance polyester multicolor abs...</td>\n",
       "      <td>key featur eleg polyest multicolor abstract ey...</td>\n",
       "      <td>key feature elegance polyester multicolor abst...</td>\n",
       "      <td>0</td>\n",
       "    </tr>\n",
       "    <tr>\n",
       "      <th>1</th>\n",
       "      <td>Baby Care</td>\n",
       "      <td>specifications sathiyas cotton bath towel bath...</td>\n",
       "      <td>specif sathiya cotton bath towel bath bath tow...</td>\n",
       "      <td>specification sathiyas cotton bath towel bath ...</td>\n",
       "      <td>3</td>\n",
       "    </tr>\n",
       "    <tr>\n",
       "      <th>2</th>\n",
       "      <td>Baby Care</td>\n",
       "      <td>key features eurospa cotton terry face towel s...</td>\n",
       "      <td>key featur eurospa cotton terri face towel set...</td>\n",
       "      <td>key feature eurospa cotton terry face towel se...</td>\n",
       "      <td>3</td>\n",
       "    </tr>\n",
       "    <tr>\n",
       "      <th>3</th>\n",
       "      <td>Home Furnishing</td>\n",
       "      <td>key features santosh royal fashion cotton prin...</td>\n",
       "      <td>key featur santosh royal fashion cotton print ...</td>\n",
       "      <td>key feature santosh royal fashion cotton print...</td>\n",
       "      <td>0</td>\n",
       "    </tr>\n",
       "    <tr>\n",
       "      <th>4</th>\n",
       "      <td>Home Furnishing</td>\n",
       "      <td>key features jaipur print cotton floral king s...</td>\n",
       "      <td>key featur jaipur print cotton floral king siz...</td>\n",
       "      <td>key feature jaipur print cotton floral king si...</td>\n",
       "      <td>0</td>\n",
       "    </tr>\n",
       "  </tbody>\n",
       "</table>\n",
       "</div>"
      ],
      "text/plain": [
       "  main_product_category                              processed_description  \\\n",
       "0       Home Furnishing  key features elegance polyester multicolor abs...   \n",
       "1             Baby Care  specifications sathiyas cotton bath towel bath...   \n",
       "2             Baby Care  key features eurospa cotton terry face towel s...   \n",
       "3       Home Furnishing  key features santosh royal fashion cotton prin...   \n",
       "4       Home Furnishing  key features jaipur print cotton floral king s...   \n",
       "\n",
       "                                 stemmed_description  \\\n",
       "0  key featur eleg polyest multicolor abstract ey...   \n",
       "1  specif sathiya cotton bath towel bath bath tow...   \n",
       "2  key featur eurospa cotton terri face towel set...   \n",
       "3  key featur santosh royal fashion cotton print ...   \n",
       "4  key featur jaipur print cotton floral king siz...   \n",
       "\n",
       "                              lemmatized_description  category_id  \n",
       "0  key feature elegance polyester multicolor abst...            0  \n",
       "1  specification sathiyas cotton bath towel bath ...            3  \n",
       "2  key feature eurospa cotton terry face towel se...            3  \n",
       "3  key feature santosh royal fashion cotton print...            0  \n",
       "4  key feature jaipur print cotton floral king si...            0  "
      ]
     },
     "execution_count": 48,
     "metadata": {},
     "output_type": "execute_result"
    }
   ],
   "source": [
    "# googled this and mentor discussion - really cool idea\n",
    "from scipy.optimize import linear_sum_assignment\n",
    "from sklearn.metrics import confusion_matrix\n",
    "\n",
    "# get a CATEGORY2ID MAPPING\n",
    "category2id = {k:v\n",
    "                 for k,v in zip(\n",
    "                     set(df1[\"main_product_category\"].unique()),\n",
    "                     range(7)\n",
    "                 )\n",
    "                }\n",
    "\n",
    "df1[\"category_id\"] = df1[\"main_product_category\"].apply(lambda x: category2id[x])\n",
    "\n",
    "df1.head()\n",
    "\n"
   ]
  },
  {
   "cell_type": "code",
   "execution_count": 49,
   "id": "3a532204",
   "metadata": {
    "execution": {
     "iopub.execute_input": "2024-08-29T23:02:48.303658Z",
     "iopub.status.busy": "2024-08-29T23:02:48.303168Z",
     "iopub.status.idle": "2024-08-29T23:02:48.315797Z",
     "shell.execute_reply": "2024-08-29T23:02:48.314359Z"
    },
    "papermill": {
     "duration": 0.042942,
     "end_time": "2024-08-29T23:02:48.318448",
     "exception": false,
     "start_time": "2024-08-29T23:02:48.275506",
     "status": "completed"
    },
    "tags": []
   },
   "outputs": [
    {
     "data": {
      "text/plain": [
       "(array([0, 1, 2, 3, 4, 5, 6]), array([0, 4, 5, 3, 6, 2, 1]))"
      ]
     },
     "execution_count": 49,
     "metadata": {},
     "output_type": "execute_result"
    }
   ],
   "source": [
    "conf_matrix = confusion_matrix(test_clusters, df1[\"category_id\"])\n",
    "\n",
    "# rename the categories\n",
    "rows, adjust_category_cols = linear_sum_assignment(conf_matrix, maximize=True)\n",
    "\n",
    "rows, adjust_category_cols\n",
    "\n"
   ]
  },
  {
   "cell_type": "code",
   "execution_count": 50,
   "id": "91fdfa31",
   "metadata": {
    "execution": {
     "iopub.execute_input": "2024-08-29T23:02:48.373879Z",
     "iopub.status.busy": "2024-08-29T23:02:48.373370Z",
     "iopub.status.idle": "2024-08-29T23:02:48.381631Z",
     "shell.execute_reply": "2024-08-29T23:02:48.380460Z"
    },
    "papermill": {
     "duration": 0.038915,
     "end_time": "2024-08-29T23:02:48.384287",
     "exception": false,
     "start_time": "2024-08-29T23:02:48.345372",
     "status": "completed"
    },
    "tags": []
   },
   "outputs": [
    {
     "data": {
      "text/plain": [
       "array([4, 0, 0, ..., 6, 6, 6], dtype=int32)"
      ]
     },
     "execution_count": 50,
     "metadata": {},
     "output_type": "execute_result"
    }
   ],
   "source": [
    "test_clusters"
   ]
  },
  {
   "cell_type": "code",
   "execution_count": 51,
   "id": "1d3dfa3b",
   "metadata": {
    "execution": {
     "iopub.execute_input": "2024-08-29T23:02:48.438064Z",
     "iopub.status.busy": "2024-08-29T23:02:48.437555Z",
     "iopub.status.idle": "2024-08-29T23:02:48.443505Z",
     "shell.execute_reply": "2024-08-29T23:02:48.442249Z"
    },
    "papermill": {
     "duration": 0.035868,
     "end_time": "2024-08-29T23:02:48.446224",
     "exception": false,
     "start_time": "2024-08-29T23:02:48.410356",
     "status": "completed"
    },
    "tags": []
   },
   "outputs": [],
   "source": [
    "from sklearn.metrics import adjusted_rand_score"
   ]
  },
  {
   "cell_type": "code",
   "execution_count": 52,
   "id": "33ab0564",
   "metadata": {
    "execution": {
     "iopub.execute_input": "2024-08-29T23:02:48.500423Z",
     "iopub.status.busy": "2024-08-29T23:02:48.499572Z",
     "iopub.status.idle": "2024-08-29T23:02:48.514922Z",
     "shell.execute_reply": "2024-08-29T23:02:48.513439Z"
    },
    "papermill": {
     "duration": 0.045624,
     "end_time": "2024-08-29T23:02:48.517822",
     "exception": false,
     "start_time": "2024-08-29T23:02:48.472198",
     "status": "completed"
    },
    "tags": []
   },
   "outputs": [
    {
     "data": {
      "text/plain": [
       "0.36843301969225306"
      ]
     },
     "execution_count": 52,
     "metadata": {},
     "output_type": "execute_result"
    }
   ],
   "source": [
    "adjusted_rand_score(test_clusters, df1[\"main_product_category\"])"
   ]
  },
  {
   "cell_type": "code",
   "execution_count": 53,
   "id": "3b8febdc",
   "metadata": {
    "execution": {
     "iopub.execute_input": "2024-08-29T23:02:48.572787Z",
     "iopub.status.busy": "2024-08-29T23:02:48.572291Z",
     "iopub.status.idle": "2024-08-29T23:02:48.578532Z",
     "shell.execute_reply": "2024-08-29T23:02:48.577161Z"
    },
    "papermill": {
     "duration": 0.037022,
     "end_time": "2024-08-29T23:02:48.581156",
     "exception": false,
     "start_time": "2024-08-29T23:02:48.544134",
     "status": "completed"
    },
    "tags": []
   },
   "outputs": [],
   "source": [
    "product_palette = {\n",
    "    \"Home Furnishing\":\"red\",\n",
    "    \"Baby Care\":\"orange\",\n",
    "    \"Watches\":\"yellow\",\n",
    "    \"Home Decor & Festive Needs\":\"green\",\n",
    "    \"Kitchen & Dining\":\"blue\",\n",
    "    \"Beauty and Personal Care\":\"indigo\",\n",
    "    \"Computers\":\"violet\",\n",
    "}"
   ]
  },
  {
   "cell_type": "code",
   "execution_count": 54,
   "id": "c1ef9280",
   "metadata": {
    "execution": {
     "iopub.execute_input": "2024-08-29T23:02:48.635822Z",
     "iopub.status.busy": "2024-08-29T23:02:48.635270Z",
     "iopub.status.idle": "2024-08-29T23:02:48.645118Z",
     "shell.execute_reply": "2024-08-29T23:02:48.643927Z"
    },
    "papermill": {
     "duration": 0.040295,
     "end_time": "2024-08-29T23:02:48.647635",
     "exception": false,
     "start_time": "2024-08-29T23:02:48.607340",
     "status": "completed"
    },
    "tags": []
   },
   "outputs": [],
   "source": [
    "def plot_clustering_results(reference_dataframe, tsne_embeds, kmeans_clusters, text_preprocess_method: str):\n",
    "    fig = plt.figure(figsize=(13, 8))\n",
    "    \n",
    "    tsne_x0, tsne_x1 = tsne_embeds[: , 0], tsne_embeds[: , 1]\n",
    "    \n",
    "    # Left will be \"real clusters\", right are kmeans clusters\n",
    "    fig.add_subplot(1, 2, 1)\n",
    "    sns.scatterplot(x=tsne_x0,\n",
    "                    y=tsne_x1,\n",
    "                    hue=reference_dataframe[\"main_product_category\"],\n",
    "                    palette=product_palette\n",
    "                   )\n",
    "    \n",
    "    fig.add_subplot(1, 2, 2)\n",
    "    sns.scatterplot(x=tsne_x0,\n",
    "                    y=tsne_x1,\n",
    "                    hue=kmeans_clusters\n",
    "                   )\n",
    "    \n",
    "    # calculate the ARI score\n",
    "    ari_score = adjusted_rand_score(kmeans_clusters, reference_dataframe[\"main_product_category\"])\n",
    "    \n",
    "    fig.suptitle(f\"Actual vs K-means clusters\\nDescription used : {text_preprocess_method}. ARI score : {round(ari_score, 2)}\", fontsize=24)\n",
    "    plt.show()"
   ]
  },
  {
   "cell_type": "code",
   "execution_count": 55,
   "id": "3fa2a63d",
   "metadata": {
    "execution": {
     "iopub.execute_input": "2024-08-29T23:02:48.702260Z",
     "iopub.status.busy": "2024-08-29T23:02:48.701795Z",
     "iopub.status.idle": "2024-08-29T23:02:49.789988Z",
     "shell.execute_reply": "2024-08-29T23:02:49.788666Z"
    },
    "papermill": {
     "duration": 1.121476,
     "end_time": "2024-08-29T23:02:49.795559",
     "exception": false,
     "start_time": "2024-08-29T23:02:48.674083",
     "status": "completed"
    },
    "tags": []
   },
   "outputs": [
    {
     "data": {
      "image/png": "[encoded data removed]",
      "text/plain": [
       "<Figure size 1300x800 with 2 Axes>"
      ]
     },
     "metadata": {},
     "output_type": "display_data"
    }
   ],
   "source": [
    "plot_clustering_results(df1, test_tsne, test_clusters, \"processed_description\")"
   ]
  },
  {
   "cell_type": "markdown",
   "id": "6435c1a4",
   "metadata": {
    "papermill": {
     "duration": 0.031002,
     "end_time": "2024-08-29T23:02:49.858598",
     "exception": false,
     "start_time": "2024-08-29T23:02:49.827596",
     "status": "completed"
    },
    "tags": []
   },
   "source": [
    "# Experiments\n",
    "\n",
    "- loop over all 3 \"nlp preprocessing\"\n",
    "- loop over all \"feature getters\" O_o **TODO: add more - GloVe, BERT, USE etc.**\n",
    "\n",
    "## TODO:\n",
    "\n",
    "- if results aren't great maybe try hyperparam search the TSNE step also"
   ]
  },
  {
   "cell_type": "code",
   "execution_count": null,
   "id": "44222d31",
   "metadata": {
    "papermill": {
     "duration": 0.031322,
     "end_time": "2024-08-29T23:02:49.920888",
     "exception": false,
     "start_time": "2024-08-29T23:02:49.889566",
     "status": "completed"
    },
    "tags": []
   },
   "outputs": [],
   "source": []
  }
 ],
 "metadata": {
  "kaggle": {
   "accelerator": "none",
   "dataSources": [
    {
     "datasetId": 1591697,
     "sourceId": 2618665,
     "sourceType": "datasetVersion"
    }
   ],
   "dockerImageVersionId": 30761,
   "isGpuEnabled": false,
   "isInternetEnabled": true,
   "language": "python",
   "sourceType": "notebook"
  },
  "kernelspec": {
   "display_name": "Python 3",
   "language": "python",
   "name": "python3"
  },
  "language_info": {
   "codemirror_mode": {
    "name": "ipython",
    "version": 3
   },
   "file_extension": ".py",
   "mimetype": "text/x-python",
   "name": "python",
   "nbconvert_exporter": "python",
   "pygments_lexer": "ipython3",
   "version": "3.10.14"
  },
  "papermill": {
   "default_parameters": {},
   "duration": 28.15356,
   "end_time": "2024-08-29T23:02:51.076965",
   "environment_variables": {},
   "exception": null,
   "input_path": "__notebook__.ipynb",
   "output_path": "__notebook__.ipynb",
   "parameters": {},
   "start_time": "2024-08-29T23:02:22.923405",
   "version": "2.6.0"
  }
 },
 "nbformat": 4,
 "nbformat_minor": 5
}
