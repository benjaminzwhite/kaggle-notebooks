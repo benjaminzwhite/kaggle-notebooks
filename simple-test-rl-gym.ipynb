{
 "cells": [
  {
   "cell_type": "markdown",
   "id": "2ef42c5d",
   "metadata": {
    "papermill": {
     "duration": 0.005114,
     "end_time": "2024-09-24T20:56:37.453915",
     "exception": false,
     "start_time": "2024-09-24T20:56:37.448801",
     "status": "completed"
    },
    "tags": []
   },
   "source": [
    "# Simple test to see how Gym works in Kaggle"
   ]
  },
  {
   "cell_type": "code",
   "execution_count": 1,
   "id": "59be0e67",
   "metadata": {
    "execution": {
     "iopub.execute_input": "2024-09-24T20:56:37.464726Z",
     "iopub.status.busy": "2024-09-24T20:56:37.464257Z",
     "iopub.status.idle": "2024-09-24T20:56:52.298856Z",
     "shell.execute_reply": "2024-09-24T20:56:52.297507Z"
    },
    "papermill": {
     "duration": 14.843323,
     "end_time": "2024-09-24T20:56:52.301874",
     "exception": false,
     "start_time": "2024-09-24T20:56:37.458551",
     "status": "completed"
    },
    "tags": []
   },
   "outputs": [
    {
     "name": "stdout",
     "output_type": "stream",
     "text": [
      "Requirement already satisfied: gym in /opt/conda/lib/python3.10/site-packages (0.26.2)\r\n",
      "Requirement already satisfied: numpy>=1.18.0 in /opt/conda/lib/python3.10/site-packages (from gym) (1.26.4)\r\n",
      "Requirement already satisfied: cloudpickle>=1.2.0 in /opt/conda/lib/python3.10/site-packages (from gym) (3.0.0)\r\n",
      "Requirement already satisfied: gym-notices>=0.0.4 in /opt/conda/lib/python3.10/site-packages (from gym) (0.0.8)\r\n"
     ]
    }
   ],
   "source": [
    "!pip install gym"
   ]
  },
  {
   "cell_type": "code",
   "execution_count": 2,
   "id": "fcb54a8d",
   "metadata": {
    "execution": {
     "iopub.execute_input": "2024-09-24T20:56:52.313339Z",
     "iopub.status.busy": "2024-09-24T20:56:52.312905Z",
     "iopub.status.idle": "2024-09-24T20:56:52.712976Z",
     "shell.execute_reply": "2024-09-24T20:56:52.711784Z"
    },
    "papermill": {
     "duration": 0.409153,
     "end_time": "2024-09-24T20:56:52.715904",
     "exception": false,
     "start_time": "2024-09-24T20:56:52.306751",
     "status": "completed"
    },
    "tags": []
   },
   "outputs": [],
   "source": [
    "import gym"
   ]
  },
  {
   "cell_type": "code",
   "execution_count": 3,
   "id": "53ea375b",
   "metadata": {
    "execution": {
     "iopub.execute_input": "2024-09-24T20:56:52.727588Z",
     "iopub.status.busy": "2024-09-24T20:56:52.726550Z",
     "iopub.status.idle": "2024-09-24T20:56:52.745110Z",
     "shell.execute_reply": "2024-09-24T20:56:52.743388Z"
    },
    "papermill": {
     "duration": 0.027332,
     "end_time": "2024-09-24T20:56:52.747877",
     "exception": false,
     "start_time": "2024-09-24T20:56:52.720545",
     "status": "completed"
    },
    "tags": []
   },
   "outputs": [],
   "source": [
    "env = gym.make(\"MountainCar-v0\")"
   ]
  },
  {
   "cell_type": "code",
   "execution_count": 4,
   "id": "627ecaa8",
   "metadata": {
    "execution": {
     "iopub.execute_input": "2024-09-24T20:56:52.759500Z",
     "iopub.status.busy": "2024-09-24T20:56:52.758542Z",
     "iopub.status.idle": "2024-09-24T20:56:52.766134Z",
     "shell.execute_reply": "2024-09-24T20:56:52.764773Z"
    },
    "papermill": {
     "duration": 0.016212,
     "end_time": "2024-09-24T20:56:52.768734",
     "exception": false,
     "start_time": "2024-09-24T20:56:52.752522",
     "status": "completed"
    },
    "tags": []
   },
   "outputs": [
    {
     "name": "stdout",
     "output_type": "stream",
     "text": [
      "initial obs =  (array([-0.5988953,  0.       ], dtype=float32), {})\n"
     ]
    }
   ],
   "source": [
    "obs = env.reset()\n",
    "print(\"initial obs = \", obs) # (position, velocity)"
   ]
  },
  {
   "cell_type": "code",
   "execution_count": 5,
   "id": "b62dcc7d",
   "metadata": {
    "execution": {
     "iopub.execute_input": "2024-09-24T20:56:52.779913Z",
     "iopub.status.busy": "2024-09-24T20:56:52.779462Z",
     "iopub.status.idle": "2024-09-24T20:56:52.788502Z",
     "shell.execute_reply": "2024-09-24T20:56:52.787403Z"
    },
    "papermill": {
     "duration": 0.017615,
     "end_time": "2024-09-24T20:56:52.791107",
     "exception": false,
     "start_time": "2024-09-24T20:56:52.773492",
     "status": "completed"
    },
    "tags": []
   },
   "outputs": [
    {
     "data": {
      "text/plain": [
       "array([-0.5988953,  0.       ], dtype=float32)"
      ]
     },
     "execution_count": 5,
     "metadata": {},
     "output_type": "execute_result"
    }
   ],
   "source": [
    "obs[0]"
   ]
  },
  {
   "cell_type": "markdown",
   "id": "994bad82",
   "metadata": {
    "papermill": {
     "duration": 0.004398,
     "end_time": "2024-09-24T20:56:52.800236",
     "exception": false,
     "start_time": "2024-09-24T20:56:52.795838",
     "status": "completed"
    },
    "tags": []
   },
   "source": [
    "## Possible actions\n",
    "\n",
    "```\n",
    "{0: \"accelerate to left\", \"1\": \"do nothing\", \"2\": \"accelerate to right\"}\n",
    "```"
   ]
  },
  {
   "cell_type": "code",
   "execution_count": 6,
   "id": "cb9281bd",
   "metadata": {
    "execution": {
     "iopub.execute_input": "2024-09-24T20:56:52.811307Z",
     "iopub.status.busy": "2024-09-24T20:56:52.810864Z",
     "iopub.status.idle": "2024-09-24T20:56:52.816884Z",
     "shell.execute_reply": "2024-09-24T20:56:52.815854Z"
    },
    "papermill": {
     "duration": 0.014626,
     "end_time": "2024-09-24T20:56:52.819495",
     "exception": false,
     "start_time": "2024-09-24T20:56:52.804869",
     "status": "completed"
    },
    "tags": []
   },
   "outputs": [
    {
     "name": "stdout",
     "output_type": "stream",
     "text": [
      "possible actions: 3\n"
     ]
    }
   ],
   "source": [
    "print(\"possible actions:\", env.action_space.n)"
   ]
  },
  {
   "cell_type": "code",
   "execution_count": 7,
   "id": "ec00f34c",
   "metadata": {
    "execution": {
     "iopub.execute_input": "2024-09-24T20:56:52.835739Z",
     "iopub.status.busy": "2024-09-24T20:56:52.835210Z",
     "iopub.status.idle": "2024-09-24T20:56:52.841769Z",
     "shell.execute_reply": "2024-09-24T20:56:52.840301Z"
    },
    "papermill": {
     "duration": 0.02074,
     "end_time": "2024-09-24T20:56:52.846623",
     "exception": false,
     "start_time": "2024-09-24T20:56:52.825883",
     "status": "completed"
    },
    "tags": []
   },
   "outputs": [],
   "source": [
    "# for now use a random policy to take actions from a given observation\n",
    "\n",
    "def policy(observation):\n",
    "    return env.action_space.sample()"
   ]
  },
  {
   "cell_type": "code",
   "execution_count": 8,
   "id": "ae6af39e",
   "metadata": {
    "execution": {
     "iopub.execute_input": "2024-09-24T20:56:52.862679Z",
     "iopub.status.busy": "2024-09-24T20:56:52.860729Z",
     "iopub.status.idle": "2024-09-24T20:56:52.877138Z",
     "shell.execute_reply": "2024-09-24T20:56:52.875646Z"
    },
    "papermill": {
     "duration": 0.029179,
     "end_time": "2024-09-24T20:56:52.880985",
     "exception": false,
     "start_time": "2024-09-24T20:56:52.851806",
     "status": "completed"
    },
    "tags": []
   },
   "outputs": [
    {
     "name": "stdout",
     "output_type": "stream",
     "text": [
      "Taking action =  2\n",
      "Taking action =  1\n",
      "Taking action =  0\n",
      "Taking action =  0\n",
      "Taking action =  0\n"
     ]
    },
    {
     "name": "stderr",
     "output_type": "stream",
     "text": [
      "/opt/conda/lib/python3.10/site-packages/gym/envs/classic_control/mountain_car.py:171: UserWarning: \u001b[33mWARN: You are calling render method without specifying any render mode. You can specify the render_mode at initialization, e.g. gym(\"MountainCar-v0\", render_mode=\"rgb_array\")\u001b[0m\n",
      "  gym.logger.warn(\n",
      "/opt/conda/lib/python3.10/site-packages/gym/utils/passive_env_checker.py:233: DeprecationWarning: `np.bool8` is a deprecated alias for `np.bool_`.  (Deprecated NumPy 1.24)\n",
      "  if not isinstance(terminated, (bool, np.bool8)):\n"
     ]
    }
   ],
   "source": [
    "# take 5 steps - here 5 random samples since policy above is defined this way\n",
    "\n",
    "for _ in range(5):\n",
    "    env.render()\n",
    "    \n",
    "    # use current obs to get best action to take\n",
    "    action = policy(obs)\n",
    "    \n",
    "    print(\"Taking action = \", action)\n",
    "    \n",
    "    # pass action to env which returns new state/observation and the reward\n",
    "    #obs, reward, done, info = env.step(action)\n",
    "    # ===\n",
    "    # https://stackoverflow.com/questions/76644713/openai-gym-too-many-variables-to-unpack\n",
    "    # ===\n",
    "    obs, reward, done, truncated, info = env.step(action)\n",
    "    \n",
    "    #print(\"got reward: {0}. New state/observation is: {1}\".format(reward, obs))\n",
    "    \n",
    "env.close()"
   ]
  },
  {
   "cell_type": "code",
   "execution_count": null,
   "id": "a2527e93",
   "metadata": {
    "papermill": {
     "duration": 0.004768,
     "end_time": "2024-09-24T20:56:52.891236",
     "exception": false,
     "start_time": "2024-09-24T20:56:52.886468",
     "status": "completed"
    },
    "tags": []
   },
   "outputs": [],
   "source": []
  }
 ],
 "metadata": {
  "kaggle": {
   "accelerator": "none",
   "dataSources": [],
   "dockerImageVersionId": 30775,
   "isGpuEnabled": false,
   "isInternetEnabled": true,
   "language": "python",
   "sourceType": "notebook"
  },
  "kernelspec": {
   "display_name": "Python 3",
   "language": "python",
   "name": "python3"
  },
  "language_info": {
   "codemirror_mode": {
    "name": "ipython",
    "version": 3
   },
   "file_extension": ".py",
   "mimetype": "text/x-python",
   "name": "python",
   "nbconvert_exporter": "python",
   "pygments_lexer": "ipython3",
   "version": "3.10.14"
  },
  "papermill": {
   "default_parameters": {},
   "duration": 18.81015,
   "end_time": "2024-09-24T20:56:53.321226",
   "environment_variables": {},
   "exception": null,
   "input_path": "__notebook__.ipynb",
   "output_path": "__notebook__.ipynb",
   "parameters": {},
   "start_time": "2024-09-24T20:56:34.511076",
   "version": "2.6.0"
  }
 },
 "nbformat": 4,
 "nbformat_minor": 5
}
